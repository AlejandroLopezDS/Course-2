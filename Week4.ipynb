{
  "nbformat": 4,
  "nbformat_minor": 0,
  "metadata": {
    "colab": {
      "name": "Untitled6.ipynb",
      "provenance": [],
      "authorship_tag": "ABX9TyMfh1n2nTcmc1mAE19wIH6C",
      "include_colab_link": true
    },
    "kernelspec": {
      "name": "python3",
      "display_name": "Python 3"
    },
    "language_info": {
      "name": "python"
    }
  },
  "cells": [
    {
      "cell_type": "markdown",
      "metadata": {
        "id": "view-in-github",
        "colab_type": "text"
      },
      "source": [
        "<a href=\"https://colab.research.google.com/github/AlejandroLopezDS/Course-2/blob/main/Week4.ipynb\" target=\"_parent\"><img src=\"https://colab.research.google.com/assets/colab-badge.svg\" alt=\"Open In Colab\"/></a>"
      ]
    },
    {
      "cell_type": "code",
      "execution_count": 1,
      "metadata": {
        "colab": {
          "resources": {
            "http://localhost:8080/nbextensions/google.colab/files.js": {
              "data": "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",
              "ok": true,
              "headers": [
                [
                  "content-type",
                  "application/javascript"
                ]
              ],
              "status": 200,
              "status_text": ""
            }
          },
          "base_uri": "https://localhost:8080/",
          "height": 160
        },
        "id": "GI2XfCcuRx1p",
        "outputId": "c836eaeb-1aba-4ad2-a7b4-32450a307c7a"
      },
      "outputs": [
        {
          "output_type": "display_data",
          "data": {
            "text/plain": [
              "<IPython.core.display.HTML object>"
            ],
            "text/html": [
              "\n",
              "     <input type=\"file\" id=\"files-af4435ab-14f1-4cbc-a7dd-64afa8560ca4\" name=\"files[]\" multiple disabled\n",
              "        style=\"border:none\" />\n",
              "     <output id=\"result-af4435ab-14f1-4cbc-a7dd-64afa8560ca4\">\n",
              "      Upload widget is only available when the cell has been executed in the\n",
              "      current browser session. Please rerun this cell to enable.\n",
              "      </output>\n",
              "      <script src=\"/nbextensions/google.colab/files.js\"></script> "
            ]
          },
          "metadata": {}
        },
        {
          "output_type": "stream",
          "name": "stdout",
          "text": [
            "Saving kaggle.json to kaggle.json\n",
            "Downloading large-boatyacht-pricing-dataset.zip to /content\n",
            " 80% 5.00M/6.22M [00:00<00:00, 21.9MB/s]\n",
            "100% 6.22M/6.22M [00:00<00:00, 26.6MB/s]\n",
            "Archive:  large-boatyacht-pricing-dataset.zip\n",
            "  inflating: boat_dataset.csv        \n"
          ]
        }
      ],
      "source": [
        "!pip install -q kaggle\n",
        "from google.colab import files\n",
        "files.upload()\n",
        "#create a kaggle folder\n",
        "!mkdir ~/.kaggle\n",
        "# Go on kaggle > Account > Create New API token\n",
        "# Save the json file in your laptop in a dedicated folder\n",
        "# copy the kaggle.json to folder created\n",
        "!cp kaggle.json ~/.kaggle\n",
        "#permission for the json to act\n",
        "!chmod 600 ~/.kaggle/kaggle.json\n",
        "# Datasets available here: \n",
        "# https://www.kaggle.com/uciml/red-wine-quality-cortez-et-al-2009\n",
        "!kaggle datasets download -d artemkorottchenko/large-boatyacht-pricing-dataset\n",
        "!unzip large-boatyacht-pricing-dataset.zip"
      ]
    },
    {
      "cell_type": "code",
      "source": [
        "import pandas as pd\n",
        "import io\n",
        "import numpy as np\n",
        "pd.options.display.max_columns = 100\n",
        "pd.options.display.max_rows = 60\n",
        "\n",
        "df = pd.read_csv(io.StringIO(open('/content/boat_dataset.csv', 'rb').read().decode('utf-8', errors='ignore')), sep=\",\")\n",
        "\n"
      ],
      "metadata": {
        "id": "On7Q__-uSO6X"
      },
      "execution_count": 2,
      "outputs": []
    },
    {
      "cell_type": "code",
      "source": [
        "df.dtypes"
      ],
      "metadata": {
        "colab": {
          "base_uri": "https://localhost:8080/"
        },
        "id": "2s3aXIQuSPPV",
        "outputId": "93f31af5-fb30-41eb-d122-dd43759de428"
      },
      "execution_count": 3,
      "outputs": [
        {
          "output_type": "execute_result",
          "data": {
            "text/plain": [
              "Price                           object\n",
              "Category                        object\n",
              "Boat Type                       object\n",
              "Manufacturer                    object\n",
              "Model                           object\n",
              "Boat name                       object\n",
              "Type                            object\n",
              "Year Built                     float64\n",
              "Condition                       object\n",
              "Length                          object\n",
              "Width                           object\n",
              "Depth                           object\n",
              "Displacement                    object\n",
              "CE Design Category              object\n",
              "Cert Number of People          float64\n",
              "Number of Cabins               float64\n",
              "Number of beds                 float64\n",
              "Hull Color                      object\n",
              "Number of Toilets              float64\n",
              "Number of Bathrooms            float64\n",
              "Number of Showers              float64\n",
              "Material                        object\n",
              "Fresh Water Cap                 object\n",
              "Holding Tank                    object\n",
              "Propulsion                      object\n",
              "Engine                          object\n",
              "Engine Performance              object\n",
              "Fuel Capacity                   object\n",
              "Fuel Type                       object\n",
              "Engine Hours                    object\n",
              "Max Speed                       object\n",
              "Cruising Speed                  object\n",
              "Location                        object\n",
              "Advertisement Date              object\n",
              "Number of views last 7 days     object\n",
              "Comments                        object\n",
              "Additional Comments             object\n",
              "Equipment                       object\n",
              "dtype: object"
            ]
          },
          "metadata": {},
          "execution_count": 3
        }
      ]
    },
    {
      "cell_type": "code",
      "source": [
        "df.describe(include = 'all')"
      ],
      "metadata": {
        "colab": {
          "base_uri": "https://localhost:8080/",
          "height": 597
        },
        "id": "k6V8CLiTSPSk",
        "outputId": "663f426b-65ed-418e-84dc-9821248770ca"
      },
      "execution_count": 5,
      "outputs": [
        {
          "output_type": "execute_result",
          "data": {
            "text/plain": [
              "               Price     Category    Boat Type          Manufacturer  \\\n",
              "count          10344        10344        10344                  8954   \n",
              "unique          3283            1          135                   932   \n",
              "top     EUR 65.000,-  Power Boats  Motor Yacht  Bénéteau power boats   \n",
              "freq              81        10344         2839                   663   \n",
              "mean             NaN          NaN          NaN                   NaN   \n",
              "std              NaN          NaN          NaN                   NaN   \n",
              "min              NaN          NaN          NaN                   NaN   \n",
              "25%              NaN          NaN          NaN                   NaN   \n",
              "50%              NaN          NaN          NaN                   NaN   \n",
              "75%              NaN          NaN          NaN                   NaN   \n",
              "max              NaN          NaN          NaN                   NaN   \n",
              "\n",
              "              Model Boat name              Type   Year Built  Condition  \\\n",
              "count         10341      1313             10339  9777.000000       3375   \n",
              "unique         7458      1258                36          NaN         10   \n",
              "top     BARRACUDA 8    Maxima  Used boat,Diesel          NaN  very good   \n",
              "freq             23        15              4197          NaN       1158   \n",
              "mean            NaN       NaN               NaN  2004.830725        NaN   \n",
              "std             NaN       NaN               NaN    16.309045        NaN   \n",
              "min             NaN       NaN               NaN  1885.000000        NaN   \n",
              "25%             NaN       NaN               NaN  1999.000000        NaN   \n",
              "50%             NaN       NaN               NaN  2008.000000        NaN   \n",
              "75%             NaN       NaN               NaN  2017.000000        NaN   \n",
              "max             NaN       NaN               NaN  2021.000000        NaN   \n",
              "\n",
              "        Length   Width   Depth Displacement CE Design Category  \\\n",
              "count    10334   10281    7234         5051                782   \n",
              "unique    1628     580     264         1380                  4   \n",
              "top     9.00 m  2.50 m  0.90 m     12000 kg        C - Inshore   \n",
              "freq       113     369     582           50                402   \n",
              "mean       NaN     NaN     NaN          NaN                NaN   \n",
              "std        NaN     NaN     NaN          NaN                NaN   \n",
              "min        NaN     NaN     NaN          NaN                NaN   \n",
              "25%        NaN     NaN     NaN          NaN                NaN   \n",
              "50%        NaN     NaN     NaN          NaN                NaN   \n",
              "75%        NaN     NaN     NaN          NaN                NaN   \n",
              "max        NaN     NaN     NaN          NaN                NaN   \n",
              "\n",
              "        Cert Number of People  Number of Cabins  Number of beds   Hull Color  \\\n",
              "count             3597.000000       6475.000000     6407.000000         3311   \n",
              "unique                    NaN               NaN             NaN          377   \n",
              "top                       NaN               NaN             NaN  white white   \n",
              "freq                      NaN               NaN             NaN          853   \n",
              "mean                 9.355296          2.149035        4.345716          NaN   \n",
              "std                 24.037107          2.145005        3.974223          NaN   \n",
              "min                  1.000000         -1.000000      -23.000000          NaN   \n",
              "25%                  7.000000          1.000000        2.000000          NaN   \n",
              "50%                  8.000000          2.000000        4.000000          NaN   \n",
              "75%                 10.000000          3.000000        6.000000          NaN   \n",
              "max               1200.000000         96.000000      266.000000          NaN   \n",
              "\n",
              "        Number of Toilets  Number of Bathrooms  Number of Showers Material  \\\n",
              "count         2156.000000           463.000000        1941.000000     8512   \n",
              "unique                NaN                  NaN                NaN       11   \n",
              "top                   NaN                  NaN                NaN      GRP   \n",
              "freq                  NaN                  NaN                NaN     5754   \n",
              "mean             1.763915             1.289417           1.550747      NaN   \n",
              "std              2.076365             0.653360           0.930096      NaN   \n",
              "min              1.000000             1.000000           1.000000      NaN   \n",
              "25%              1.000000             1.000000           1.000000      NaN   \n",
              "50%              1.000000             1.000000           1.000000      NaN   \n",
              "75%              2.000000             1.000000           2.000000      NaN   \n",
              "max             84.000000             6.000000          10.000000      NaN   \n",
              "\n",
              "       Fresh Water Cap Holding Tank          Propulsion       Engine  \\\n",
              "count             2118          819                3291         9535   \n",
              "unique             287          104                   8         4752   \n",
              "top              100 l        100 l  Inboard with Shaft  Volvo Penta   \n",
              "freq               122           82                1188          375   \n",
              "mean               NaN          NaN                 NaN          NaN   \n",
              "std                NaN          NaN                 NaN          NaN   \n",
              "min                NaN          NaN                 NaN          NaN   \n",
              "25%                NaN          NaN                 NaN          NaN   \n",
              "50%                NaN          NaN                 NaN          NaN   \n",
              "75%                NaN          NaN                 NaN          NaN   \n",
              "max                NaN          NaN                 NaN          NaN   \n",
              "\n",
              "         Engine Performance Fuel Capacity Fuel Type Engine Hours Max Speed  \\\n",
              "count                  8063          6814      8022         5133       892   \n",
              "unique                  843           716         6          996        99   \n",
              "top     1 x 200 HP / 147 kW         400 l    Diesel        500 h  30 knots   \n",
              "freq                    305           231      4748          112       114   \n",
              "mean                    NaN           NaN       NaN          NaN       NaN   \n",
              "std                     NaN           NaN       NaN          NaN       NaN   \n",
              "min                     NaN           NaN       NaN          NaN       NaN   \n",
              "25%                     NaN           NaN       NaN          NaN       NaN   \n",
              "50%                     NaN           NaN       NaN          NaN       NaN   \n",
              "75%                     NaN           NaN       NaN          NaN       NaN   \n",
              "max                     NaN           NaN       NaN          NaN       NaN   \n",
              "\n",
              "       Cruising Speed                       Location Advertisement Date  \\\n",
              "count             547                          10301                870   \n",
              "unique             57                           3177                101   \n",
              "top          25 knots  Netherlands » In verkoophaven         14.07.2020   \n",
              "freq               70                            332                 33   \n",
              "mean              NaN                            NaN                NaN   \n",
              "std               NaN                            NaN                NaN   \n",
              "min               NaN                            NaN                NaN   \n",
              "25%               NaN                            NaN                NaN   \n",
              "50%               NaN                            NaN                NaN   \n",
              "75%               NaN                            NaN                NaN   \n",
              "max               NaN                            NaN                NaN   \n",
              "\n",
              "       Number of views last 7 days  \\\n",
              "count                         9981   \n",
              "unique                         680   \n",
              "top                             68   \n",
              "freq                            91   \n",
              "mean                           NaN   \n",
              "std                            NaN   \n",
              "min                            NaN   \n",
              "25%                            NaN   \n",
              "50%                            NaN   \n",
              "75%                            NaN   \n",
              "max                            NaN   \n",
              "\n",
              "                                                 Comments  \\\n",
              "count                                                7078   \n",
              "unique                                               6631   \n",
              "top     Wir sprechen Deutsch. Vermittlungsprovision ni...   \n",
              "freq                                                  128   \n",
              "mean                                                  NaN   \n",
              "std                                                   NaN   \n",
              "min                                                   NaN   \n",
              "25%                                                   NaN   \n",
              "50%                                                   NaN   \n",
              "75%                                                   NaN   \n",
              "max                                                   NaN   \n",
              "\n",
              "                                      Additional Comments Equipment  \n",
              "count                                                2454      6174  \n",
              "unique                                               2410      5301  \n",
              "top     Ex-works price,Not included:,- Motor,- Options...   Battery  \n",
              "freq                                                   11        54  \n",
              "mean                                                  NaN       NaN  \n",
              "std                                                   NaN       NaN  \n",
              "min                                                   NaN       NaN  \n",
              "25%                                                   NaN       NaN  \n",
              "50%                                                   NaN       NaN  \n",
              "75%                                                   NaN       NaN  \n",
              "max                                                   NaN       NaN  "
            ],
            "text/html": [
              "\n",
              "  <div id=\"df-e6c69906-984f-4fca-89fa-9148e47e89ca\">\n",
              "    <div class=\"colab-df-container\">\n",
              "      <div>\n",
              "<style scoped>\n",
              "    .dataframe tbody tr th:only-of-type {\n",
              "        vertical-align: middle;\n",
              "    }\n",
              "\n",
              "    .dataframe tbody tr th {\n",
              "        vertical-align: top;\n",
              "    }\n",
              "\n",
              "    .dataframe thead th {\n",
              "        text-align: right;\n",
              "    }\n",
              "</style>\n",
              "<table border=\"1\" class=\"dataframe\">\n",
              "  <thead>\n",
              "    <tr style=\"text-align: right;\">\n",
              "      <th></th>\n",
              "      <th>Price</th>\n",
              "      <th>Category</th>\n",
              "      <th>Boat Type</th>\n",
              "      <th>Manufacturer</th>\n",
              "      <th>Model</th>\n",
              "      <th>Boat name</th>\n",
              "      <th>Type</th>\n",
              "      <th>Year Built</th>\n",
              "      <th>Condition</th>\n",
              "      <th>Length</th>\n",
              "      <th>Width</th>\n",
              "      <th>Depth</th>\n",
              "      <th>Displacement</th>\n",
              "      <th>CE Design Category</th>\n",
              "      <th>Cert Number of People</th>\n",
              "      <th>Number of Cabins</th>\n",
              "      <th>Number of beds</th>\n",
              "      <th>Hull Color</th>\n",
              "      <th>Number of Toilets</th>\n",
              "      <th>Number of Bathrooms</th>\n",
              "      <th>Number of Showers</th>\n",
              "      <th>Material</th>\n",
              "      <th>Fresh Water Cap</th>\n",
              "      <th>Holding Tank</th>\n",
              "      <th>Propulsion</th>\n",
              "      <th>Engine</th>\n",
              "      <th>Engine Performance</th>\n",
              "      <th>Fuel Capacity</th>\n",
              "      <th>Fuel Type</th>\n",
              "      <th>Engine Hours</th>\n",
              "      <th>Max Speed</th>\n",
              "      <th>Cruising Speed</th>\n",
              "      <th>Location</th>\n",
              "      <th>Advertisement Date</th>\n",
              "      <th>Number of views last 7 days</th>\n",
              "      <th>Comments</th>\n",
              "      <th>Additional Comments</th>\n",
              "      <th>Equipment</th>\n",
              "    </tr>\n",
              "  </thead>\n",
              "  <tbody>\n",
              "    <tr>\n",
              "      <th>count</th>\n",
              "      <td>10344</td>\n",
              "      <td>10344</td>\n",
              "      <td>10344</td>\n",
              "      <td>8954</td>\n",
              "      <td>10341</td>\n",
              "      <td>1313</td>\n",
              "      <td>10339</td>\n",
              "      <td>9777.000000</td>\n",
              "      <td>3375</td>\n",
              "      <td>10334</td>\n",
              "      <td>10281</td>\n",
              "      <td>7234</td>\n",
              "      <td>5051</td>\n",
              "      <td>782</td>\n",
              "      <td>3597.000000</td>\n",
              "      <td>6475.000000</td>\n",
              "      <td>6407.000000</td>\n",
              "      <td>3311</td>\n",
              "      <td>2156.000000</td>\n",
              "      <td>463.000000</td>\n",
              "      <td>1941.000000</td>\n",
              "      <td>8512</td>\n",
              "      <td>2118</td>\n",
              "      <td>819</td>\n",
              "      <td>3291</td>\n",
              "      <td>9535</td>\n",
              "      <td>8063</td>\n",
              "      <td>6814</td>\n",
              "      <td>8022</td>\n",
              "      <td>5133</td>\n",
              "      <td>892</td>\n",
              "      <td>547</td>\n",
              "      <td>10301</td>\n",
              "      <td>870</td>\n",
              "      <td>9981</td>\n",
              "      <td>7078</td>\n",
              "      <td>2454</td>\n",
              "      <td>6174</td>\n",
              "    </tr>\n",
              "    <tr>\n",
              "      <th>unique</th>\n",
              "      <td>3283</td>\n",
              "      <td>1</td>\n",
              "      <td>135</td>\n",
              "      <td>932</td>\n",
              "      <td>7458</td>\n",
              "      <td>1258</td>\n",
              "      <td>36</td>\n",
              "      <td>NaN</td>\n",
              "      <td>10</td>\n",
              "      <td>1628</td>\n",
              "      <td>580</td>\n",
              "      <td>264</td>\n",
              "      <td>1380</td>\n",
              "      <td>4</td>\n",
              "      <td>NaN</td>\n",
              "      <td>NaN</td>\n",
              "      <td>NaN</td>\n",
              "      <td>377</td>\n",
              "      <td>NaN</td>\n",
              "      <td>NaN</td>\n",
              "      <td>NaN</td>\n",
              "      <td>11</td>\n",
              "      <td>287</td>\n",
              "      <td>104</td>\n",
              "      <td>8</td>\n",
              "      <td>4752</td>\n",
              "      <td>843</td>\n",
              "      <td>716</td>\n",
              "      <td>6</td>\n",
              "      <td>996</td>\n",
              "      <td>99</td>\n",
              "      <td>57</td>\n",
              "      <td>3177</td>\n",
              "      <td>101</td>\n",
              "      <td>680</td>\n",
              "      <td>6631</td>\n",
              "      <td>2410</td>\n",
              "      <td>5301</td>\n",
              "    </tr>\n",
              "    <tr>\n",
              "      <th>top</th>\n",
              "      <td>EUR 65.000,-</td>\n",
              "      <td>Power Boats</td>\n",
              "      <td>Motor Yacht</td>\n",
              "      <td>Bénéteau power boats</td>\n",
              "      <td>BARRACUDA 8</td>\n",
              "      <td>Maxima</td>\n",
              "      <td>Used boat,Diesel</td>\n",
              "      <td>NaN</td>\n",
              "      <td>very good</td>\n",
              "      <td>9.00 m</td>\n",
              "      <td>2.50 m</td>\n",
              "      <td>0.90 m</td>\n",
              "      <td>12000 kg</td>\n",
              "      <td>C - Inshore</td>\n",
              "      <td>NaN</td>\n",
              "      <td>NaN</td>\n",
              "      <td>NaN</td>\n",
              "      <td>white white</td>\n",
              "      <td>NaN</td>\n",
              "      <td>NaN</td>\n",
              "      <td>NaN</td>\n",
              "      <td>GRP</td>\n",
              "      <td>100 l</td>\n",
              "      <td>100 l</td>\n",
              "      <td>Inboard with Shaft</td>\n",
              "      <td>Volvo Penta</td>\n",
              "      <td>1 x 200 HP / 147 kW</td>\n",
              "      <td>400 l</td>\n",
              "      <td>Diesel</td>\n",
              "      <td>500 h</td>\n",
              "      <td>30 knots</td>\n",
              "      <td>25 knots</td>\n",
              "      <td>Netherlands » In verkoophaven</td>\n",
              "      <td>14.07.2020</td>\n",
              "      <td>68</td>\n",
              "      <td>Wir sprechen Deutsch. Vermittlungsprovision ni...</td>\n",
              "      <td>Ex-works price,Not included:,- Motor,- Options...</td>\n",
              "      <td>Battery</td>\n",
              "    </tr>\n",
              "    <tr>\n",
              "      <th>freq</th>\n",
              "      <td>81</td>\n",
              "      <td>10344</td>\n",
              "      <td>2839</td>\n",
              "      <td>663</td>\n",
              "      <td>23</td>\n",
              "      <td>15</td>\n",
              "      <td>4197</td>\n",
              "      <td>NaN</td>\n",
              "      <td>1158</td>\n",
              "      <td>113</td>\n",
              "      <td>369</td>\n",
              "      <td>582</td>\n",
              "      <td>50</td>\n",
              "      <td>402</td>\n",
              "      <td>NaN</td>\n",
              "      <td>NaN</td>\n",
              "      <td>NaN</td>\n",
              "      <td>853</td>\n",
              "      <td>NaN</td>\n",
              "      <td>NaN</td>\n",
              "      <td>NaN</td>\n",
              "      <td>5754</td>\n",
              "      <td>122</td>\n",
              "      <td>82</td>\n",
              "      <td>1188</td>\n",
              "      <td>375</td>\n",
              "      <td>305</td>\n",
              "      <td>231</td>\n",
              "      <td>4748</td>\n",
              "      <td>112</td>\n",
              "      <td>114</td>\n",
              "      <td>70</td>\n",
              "      <td>332</td>\n",
              "      <td>33</td>\n",
              "      <td>91</td>\n",
              "      <td>128</td>\n",
              "      <td>11</td>\n",
              "      <td>54</td>\n",
              "    </tr>\n",
              "    <tr>\n",
              "      <th>mean</th>\n",
              "      <td>NaN</td>\n",
              "      <td>NaN</td>\n",
              "      <td>NaN</td>\n",
              "      <td>NaN</td>\n",
              "      <td>NaN</td>\n",
              "      <td>NaN</td>\n",
              "      <td>NaN</td>\n",
              "      <td>2004.830725</td>\n",
              "      <td>NaN</td>\n",
              "      <td>NaN</td>\n",
              "      <td>NaN</td>\n",
              "      <td>NaN</td>\n",
              "      <td>NaN</td>\n",
              "      <td>NaN</td>\n",
              "      <td>9.355296</td>\n",
              "      <td>2.149035</td>\n",
              "      <td>4.345716</td>\n",
              "      <td>NaN</td>\n",
              "      <td>1.763915</td>\n",
              "      <td>1.289417</td>\n",
              "      <td>1.550747</td>\n",
              "      <td>NaN</td>\n",
              "      <td>NaN</td>\n",
              "      <td>NaN</td>\n",
              "      <td>NaN</td>\n",
              "      <td>NaN</td>\n",
              "      <td>NaN</td>\n",
              "      <td>NaN</td>\n",
              "      <td>NaN</td>\n",
              "      <td>NaN</td>\n",
              "      <td>NaN</td>\n",
              "      <td>NaN</td>\n",
              "      <td>NaN</td>\n",
              "      <td>NaN</td>\n",
              "      <td>NaN</td>\n",
              "      <td>NaN</td>\n",
              "      <td>NaN</td>\n",
              "      <td>NaN</td>\n",
              "    </tr>\n",
              "    <tr>\n",
              "      <th>std</th>\n",
              "      <td>NaN</td>\n",
              "      <td>NaN</td>\n",
              "      <td>NaN</td>\n",
              "      <td>NaN</td>\n",
              "      <td>NaN</td>\n",
              "      <td>NaN</td>\n",
              "      <td>NaN</td>\n",
              "      <td>16.309045</td>\n",
              "      <td>NaN</td>\n",
              "      <td>NaN</td>\n",
              "      <td>NaN</td>\n",
              "      <td>NaN</td>\n",
              "      <td>NaN</td>\n",
              "      <td>NaN</td>\n",
              "      <td>24.037107</td>\n",
              "      <td>2.145005</td>\n",
              "      <td>3.974223</td>\n",
              "      <td>NaN</td>\n",
              "      <td>2.076365</td>\n",
              "      <td>0.653360</td>\n",
              "      <td>0.930096</td>\n",
              "      <td>NaN</td>\n",
              "      <td>NaN</td>\n",
              "      <td>NaN</td>\n",
              "      <td>NaN</td>\n",
              "      <td>NaN</td>\n",
              "      <td>NaN</td>\n",
              "      <td>NaN</td>\n",
              "      <td>NaN</td>\n",
              "      <td>NaN</td>\n",
              "      <td>NaN</td>\n",
              "      <td>NaN</td>\n",
              "      <td>NaN</td>\n",
              "      <td>NaN</td>\n",
              "      <td>NaN</td>\n",
              "      <td>NaN</td>\n",
              "      <td>NaN</td>\n",
              "      <td>NaN</td>\n",
              "    </tr>\n",
              "    <tr>\n",
              "      <th>min</th>\n",
              "      <td>NaN</td>\n",
              "      <td>NaN</td>\n",
              "      <td>NaN</td>\n",
              "      <td>NaN</td>\n",
              "      <td>NaN</td>\n",
              "      <td>NaN</td>\n",
              "      <td>NaN</td>\n",
              "      <td>1885.000000</td>\n",
              "      <td>NaN</td>\n",
              "      <td>NaN</td>\n",
              "      <td>NaN</td>\n",
              "      <td>NaN</td>\n",
              "      <td>NaN</td>\n",
              "      <td>NaN</td>\n",
              "      <td>1.000000</td>\n",
              "      <td>-1.000000</td>\n",
              "      <td>-23.000000</td>\n",
              "      <td>NaN</td>\n",
              "      <td>1.000000</td>\n",
              "      <td>1.000000</td>\n",
              "      <td>1.000000</td>\n",
              "      <td>NaN</td>\n",
              "      <td>NaN</td>\n",
              "      <td>NaN</td>\n",
              "      <td>NaN</td>\n",
              "      <td>NaN</td>\n",
              "      <td>NaN</td>\n",
              "      <td>NaN</td>\n",
              "      <td>NaN</td>\n",
              "      <td>NaN</td>\n",
              "      <td>NaN</td>\n",
              "      <td>NaN</td>\n",
              "      <td>NaN</td>\n",
              "      <td>NaN</td>\n",
              "      <td>NaN</td>\n",
              "      <td>NaN</td>\n",
              "      <td>NaN</td>\n",
              "      <td>NaN</td>\n",
              "    </tr>\n",
              "    <tr>\n",
              "      <th>25%</th>\n",
              "      <td>NaN</td>\n",
              "      <td>NaN</td>\n",
              "      <td>NaN</td>\n",
              "      <td>NaN</td>\n",
              "      <td>NaN</td>\n",
              "      <td>NaN</td>\n",
              "      <td>NaN</td>\n",
              "      <td>1999.000000</td>\n",
              "      <td>NaN</td>\n",
              "      <td>NaN</td>\n",
              "      <td>NaN</td>\n",
              "      <td>NaN</td>\n",
              "      <td>NaN</td>\n",
              "      <td>NaN</td>\n",
              "      <td>7.000000</td>\n",
              "      <td>1.000000</td>\n",
              "      <td>2.000000</td>\n",
              "      <td>NaN</td>\n",
              "      <td>1.000000</td>\n",
              "      <td>1.000000</td>\n",
              "      <td>1.000000</td>\n",
              "      <td>NaN</td>\n",
              "      <td>NaN</td>\n",
              "      <td>NaN</td>\n",
              "      <td>NaN</td>\n",
              "      <td>NaN</td>\n",
              "      <td>NaN</td>\n",
              "      <td>NaN</td>\n",
              "      <td>NaN</td>\n",
              "      <td>NaN</td>\n",
              "      <td>NaN</td>\n",
              "      <td>NaN</td>\n",
              "      <td>NaN</td>\n",
              "      <td>NaN</td>\n",
              "      <td>NaN</td>\n",
              "      <td>NaN</td>\n",
              "      <td>NaN</td>\n",
              "      <td>NaN</td>\n",
              "    </tr>\n",
              "    <tr>\n",
              "      <th>50%</th>\n",
              "      <td>NaN</td>\n",
              "      <td>NaN</td>\n",
              "      <td>NaN</td>\n",
              "      <td>NaN</td>\n",
              "      <td>NaN</td>\n",
              "      <td>NaN</td>\n",
              "      <td>NaN</td>\n",
              "      <td>2008.000000</td>\n",
              "      <td>NaN</td>\n",
              "      <td>NaN</td>\n",
              "      <td>NaN</td>\n",
              "      <td>NaN</td>\n",
              "      <td>NaN</td>\n",
              "      <td>NaN</td>\n",
              "      <td>8.000000</td>\n",
              "      <td>2.000000</td>\n",
              "      <td>4.000000</td>\n",
              "      <td>NaN</td>\n",
              "      <td>1.000000</td>\n",
              "      <td>1.000000</td>\n",
              "      <td>1.000000</td>\n",
              "      <td>NaN</td>\n",
              "      <td>NaN</td>\n",
              "      <td>NaN</td>\n",
              "      <td>NaN</td>\n",
              "      <td>NaN</td>\n",
              "      <td>NaN</td>\n",
              "      <td>NaN</td>\n",
              "      <td>NaN</td>\n",
              "      <td>NaN</td>\n",
              "      <td>NaN</td>\n",
              "      <td>NaN</td>\n",
              "      <td>NaN</td>\n",
              "      <td>NaN</td>\n",
              "      <td>NaN</td>\n",
              "      <td>NaN</td>\n",
              "      <td>NaN</td>\n",
              "      <td>NaN</td>\n",
              "    </tr>\n",
              "    <tr>\n",
              "      <th>75%</th>\n",
              "      <td>NaN</td>\n",
              "      <td>NaN</td>\n",
              "      <td>NaN</td>\n",
              "      <td>NaN</td>\n",
              "      <td>NaN</td>\n",
              "      <td>NaN</td>\n",
              "      <td>NaN</td>\n",
              "      <td>2017.000000</td>\n",
              "      <td>NaN</td>\n",
              "      <td>NaN</td>\n",
              "      <td>NaN</td>\n",
              "      <td>NaN</td>\n",
              "      <td>NaN</td>\n",
              "      <td>NaN</td>\n",
              "      <td>10.000000</td>\n",
              "      <td>3.000000</td>\n",
              "      <td>6.000000</td>\n",
              "      <td>NaN</td>\n",
              "      <td>2.000000</td>\n",
              "      <td>1.000000</td>\n",
              "      <td>2.000000</td>\n",
              "      <td>NaN</td>\n",
              "      <td>NaN</td>\n",
              "      <td>NaN</td>\n",
              "      <td>NaN</td>\n",
              "      <td>NaN</td>\n",
              "      <td>NaN</td>\n",
              "      <td>NaN</td>\n",
              "      <td>NaN</td>\n",
              "      <td>NaN</td>\n",
              "      <td>NaN</td>\n",
              "      <td>NaN</td>\n",
              "      <td>NaN</td>\n",
              "      <td>NaN</td>\n",
              "      <td>NaN</td>\n",
              "      <td>NaN</td>\n",
              "      <td>NaN</td>\n",
              "      <td>NaN</td>\n",
              "    </tr>\n",
              "    <tr>\n",
              "      <th>max</th>\n",
              "      <td>NaN</td>\n",
              "      <td>NaN</td>\n",
              "      <td>NaN</td>\n",
              "      <td>NaN</td>\n",
              "      <td>NaN</td>\n",
              "      <td>NaN</td>\n",
              "      <td>NaN</td>\n",
              "      <td>2021.000000</td>\n",
              "      <td>NaN</td>\n",
              "      <td>NaN</td>\n",
              "      <td>NaN</td>\n",
              "      <td>NaN</td>\n",
              "      <td>NaN</td>\n",
              "      <td>NaN</td>\n",
              "      <td>1200.000000</td>\n",
              "      <td>96.000000</td>\n",
              "      <td>266.000000</td>\n",
              "      <td>NaN</td>\n",
              "      <td>84.000000</td>\n",
              "      <td>6.000000</td>\n",
              "      <td>10.000000</td>\n",
              "      <td>NaN</td>\n",
              "      <td>NaN</td>\n",
              "      <td>NaN</td>\n",
              "      <td>NaN</td>\n",
              "      <td>NaN</td>\n",
              "      <td>NaN</td>\n",
              "      <td>NaN</td>\n",
              "      <td>NaN</td>\n",
              "      <td>NaN</td>\n",
              "      <td>NaN</td>\n",
              "      <td>NaN</td>\n",
              "      <td>NaN</td>\n",
              "      <td>NaN</td>\n",
              "      <td>NaN</td>\n",
              "      <td>NaN</td>\n",
              "      <td>NaN</td>\n",
              "      <td>NaN</td>\n",
              "    </tr>\n",
              "  </tbody>\n",
              "</table>\n",
              "</div>\n",
              "      <button class=\"colab-df-convert\" onclick=\"convertToInteractive('df-e6c69906-984f-4fca-89fa-9148e47e89ca')\"\n",
              "              title=\"Convert this dataframe to an interactive table.\"\n",
              "              style=\"display:none;\">\n",
              "        \n",
              "  <svg xmlns=\"http://www.w3.org/2000/svg\" height=\"24px\"viewBox=\"0 0 24 24\"\n",
              "       width=\"24px\">\n",
              "    <path d=\"M0 0h24v24H0V0z\" fill=\"none\"/>\n",
              "    <path d=\"M18.56 5.44l.94 2.06.94-2.06 2.06-.94-2.06-.94-.94-2.06-.94 2.06-2.06.94zm-11 1L8.5 8.5l.94-2.06 2.06-.94-2.06-.94L8.5 2.5l-.94 2.06-2.06.94zm10 10l.94 2.06.94-2.06 2.06-.94-2.06-.94-.94-2.06-.94 2.06-2.06.94z\"/><path d=\"M17.41 7.96l-1.37-1.37c-.4-.4-.92-.59-1.43-.59-.52 0-1.04.2-1.43.59L10.3 9.45l-7.72 7.72c-.78.78-.78 2.05 0 2.83L4 21.41c.39.39.9.59 1.41.59.51 0 1.02-.2 1.41-.59l7.78-7.78 2.81-2.81c.8-.78.8-2.07 0-2.86zM5.41 20L4 18.59l7.72-7.72 1.47 1.35L5.41 20z\"/>\n",
              "  </svg>\n",
              "      </button>\n",
              "      \n",
              "  <style>\n",
              "    .colab-df-container {\n",
              "      display:flex;\n",
              "      flex-wrap:wrap;\n",
              "      gap: 12px;\n",
              "    }\n",
              "\n",
              "    .colab-df-convert {\n",
              "      background-color: #E8F0FE;\n",
              "      border: none;\n",
              "      border-radius: 50%;\n",
              "      cursor: pointer;\n",
              "      display: none;\n",
              "      fill: #1967D2;\n",
              "      height: 32px;\n",
              "      padding: 0 0 0 0;\n",
              "      width: 32px;\n",
              "    }\n",
              "\n",
              "    .colab-df-convert:hover {\n",
              "      background-color: #E2EBFA;\n",
              "      box-shadow: 0px 1px 2px rgba(60, 64, 67, 0.3), 0px 1px 3px 1px rgba(60, 64, 67, 0.15);\n",
              "      fill: #174EA6;\n",
              "    }\n",
              "\n",
              "    [theme=dark] .colab-df-convert {\n",
              "      background-color: #3B4455;\n",
              "      fill: #D2E3FC;\n",
              "    }\n",
              "\n",
              "    [theme=dark] .colab-df-convert:hover {\n",
              "      background-color: #434B5C;\n",
              "      box-shadow: 0px 1px 3px 1px rgba(0, 0, 0, 0.15);\n",
              "      filter: drop-shadow(0px 1px 2px rgba(0, 0, 0, 0.3));\n",
              "      fill: #FFFFFF;\n",
              "    }\n",
              "  </style>\n",
              "\n",
              "      <script>\n",
              "        const buttonEl =\n",
              "          document.querySelector('#df-e6c69906-984f-4fca-89fa-9148e47e89ca button.colab-df-convert');\n",
              "        buttonEl.style.display =\n",
              "          google.colab.kernel.accessAllowed ? 'block' : 'none';\n",
              "\n",
              "        async function convertToInteractive(key) {\n",
              "          const element = document.querySelector('#df-e6c69906-984f-4fca-89fa-9148e47e89ca');\n",
              "          const dataTable =\n",
              "            await google.colab.kernel.invokeFunction('convertToInteractive',\n",
              "                                                     [key], {});\n",
              "          if (!dataTable) return;\n",
              "\n",
              "          const docLinkHtml = 'Like what you see? Visit the ' +\n",
              "            '<a target=\"_blank\" href=https://colab.research.google.com/notebooks/data_table.ipynb>data table notebook</a>'\n",
              "            + ' to learn more about interactive tables.';\n",
              "          element.innerHTML = '';\n",
              "          dataTable['output_type'] = 'display_data';\n",
              "          await google.colab.output.renderOutput(dataTable, element);\n",
              "          const docLink = document.createElement('div');\n",
              "          docLink.innerHTML = docLinkHtml;\n",
              "          element.appendChild(docLink);\n",
              "        }\n",
              "      </script>\n",
              "    </div>\n",
              "  </div>\n",
              "  "
            ]
          },
          "metadata": {},
          "execution_count": 5
        }
      ]
    },
    {
      "cell_type": "code",
      "source": [
        "df.info()"
      ],
      "metadata": {
        "colab": {
          "base_uri": "https://localhost:8080/"
        },
        "id": "MPyzUdtsSPVY",
        "outputId": "c0687d71-a989-434a-fe96-0d4b01f4acbc"
      },
      "execution_count": 6,
      "outputs": [
        {
          "output_type": "stream",
          "name": "stdout",
          "text": [
            "<class 'pandas.core.frame.DataFrame'>\n",
            "RangeIndex: 10344 entries, 0 to 10343\n",
            "Data columns (total 38 columns):\n",
            " #   Column                       Non-Null Count  Dtype  \n",
            "---  ------                       --------------  -----  \n",
            " 0   Price                        10344 non-null  object \n",
            " 1   Category                     10344 non-null  object \n",
            " 2   Boat Type                    10344 non-null  object \n",
            " 3   Manufacturer                 8954 non-null   object \n",
            " 4   Model                        10341 non-null  object \n",
            " 5   Boat name                    1313 non-null   object \n",
            " 6   Type                         10339 non-null  object \n",
            " 7   Year Built                   9777 non-null   float64\n",
            " 8   Condition                    3375 non-null   object \n",
            " 9   Length                       10334 non-null  object \n",
            " 10  Width                        10281 non-null  object \n",
            " 11  Depth                        7234 non-null   object \n",
            " 12  Displacement                 5051 non-null   object \n",
            " 13  CE Design Category           782 non-null    object \n",
            " 14  Cert Number of People        3597 non-null   float64\n",
            " 15  Number of Cabins             6475 non-null   float64\n",
            " 16  Number of beds               6407 non-null   float64\n",
            " 17  Hull Color                   3311 non-null   object \n",
            " 18  Number of Toilets            2156 non-null   float64\n",
            " 19  Number of Bathrooms          463 non-null    float64\n",
            " 20  Number of Showers            1941 non-null   float64\n",
            " 21  Material                     8512 non-null   object \n",
            " 22  Fresh Water Cap              2118 non-null   object \n",
            " 23  Holding Tank                 819 non-null    object \n",
            " 24  Propulsion                   3291 non-null   object \n",
            " 25  Engine                       9535 non-null   object \n",
            " 26  Engine Performance           8063 non-null   object \n",
            " 27  Fuel Capacity                6814 non-null   object \n",
            " 28  Fuel Type                    8022 non-null   object \n",
            " 29  Engine Hours                 5133 non-null   object \n",
            " 30  Max Speed                    892 non-null    object \n",
            " 31  Cruising Speed               547 non-null    object \n",
            " 32  Location                     10301 non-null  object \n",
            " 33  Advertisement Date           870 non-null    object \n",
            " 34  Number of views last 7 days  9981 non-null   object \n",
            " 35  Comments                     7078 non-null   object \n",
            " 36  Additional Comments          2454 non-null   object \n",
            " 37  Equipment                    6174 non-null   object \n",
            "dtypes: float64(7), object(31)\n",
            "memory usage: 3.0+ MB\n"
          ]
        }
      ]
    },
    {
      "cell_type": "code",
      "source": [
        "len(df) - len(df[df[\"Max Speed\"].isna()])"
      ],
      "metadata": {
        "colab": {
          "base_uri": "https://localhost:8080/"
        },
        "id": "qg7Sr3yaSPYI",
        "outputId": "6deda1f1-9ef6-4274-c8aa-4c889d04f20b"
      },
      "execution_count": 7,
      "outputs": [
        {
          "output_type": "execute_result",
          "data": {
            "text/plain": [
              "892"
            ]
          },
          "metadata": {},
          "execution_count": 7
        }
      ]
    },
    {
      "cell_type": "code",
      "source": [
        "df.Equipment.unique()"
      ],
      "metadata": {
        "colab": {
          "base_uri": "https://localhost:8080/"
        },
        "id": "33tTJmmwSPaj",
        "outputId": "c07bdfe6-0ea7-4a82-9454-0a6a5ac26c01"
      },
      "execution_count": 13,
      "outputs": [
        {
          "output_type": "execute_result",
          "data": {
            "text/plain": [
              "array([nan,\n",
              "       'Anchor,Battery,Bilge Pump,Bilge pump,Cockpit Cover,Compass,Depth Instrument,Gas Stove,Stern Thruster,Teak Cockpit,Teak Deck,Underwater Paint',\n",
              "       'Anchor,Mooring Cover,Swim Ladder,Trailer', ...,\n",
              "       'Anchor,Battery,CD Player,MP3 Player,Navigation lights,Radio,Swim Ladder',\n",
              "       'Anchor,Battery,Bilge Pump,Compass,Fire Extinguisher,MP3 Player,Radio,Speed Instrument,Swim Ladder,Trailer,Underwater Paint,iPod Interface',\n",
              "       'Battery,Fire Extinguisher,Full Enclosure,Speed Instrument,Trailer'],\n",
              "      dtype=object)"
            ]
          },
          "metadata": {},
          "execution_count": 13
        }
      ]
    },
    {
      "cell_type": "code",
      "source": [
        "mask1 = df['Year Built']> 2000\n",
        "\n",
        "mask2 = df['Year Built'].between(2000,2002)"
      ],
      "metadata": {
        "id": "imIbRjQESPdD"
      },
      "execution_count": 9,
      "outputs": []
    },
    {
      "cell_type": "code",
      "source": [
        "list_cat_to_keep = ['Electric']\n",
        "mask3 = ((df['Year Built']>=2001)  | (df['Year Built']<=2011)) & (df['Number of Cabins']<2) & (~df['Fuel Type'].isin(list_cat_to_keep))"
      ],
      "metadata": {
        "id": "5RH7-DTXYMcS"
      },
      "execution_count": 17,
      "outputs": []
    },
    {
      "cell_type": "code",
      "source": [
        "df[mask3]['Fuel Type'].unique()"
      ],
      "metadata": {
        "colab": {
          "base_uri": "https://localhost:8080/"
        },
        "id": "N6RmfQaGZB3v",
        "outputId": "dd66a4f8-4b64-4166-8529-65292fb4e364"
      },
      "execution_count": null,
      "outputs": [
        {
          "output_type": "execute_result",
          "data": {
            "text/plain": [
              "array(['Electric'], dtype=object)"
            ]
          },
          "metadata": {},
          "execution_count": 112
        }
      ]
    },
    {
      "cell_type": "code",
      "source": [
        "df['Fuel Type'].value_counts()"
      ],
      "metadata": {
        "id": "BdtuSPELfH_X",
        "outputId": "00fdbc73-e7c6-4f3b-8268-83937e43b261",
        "colab": {
          "base_uri": "https://localhost:8080/"
        }
      },
      "execution_count": 20,
      "outputs": [
        {
          "output_type": "execute_result",
          "data": {
            "text/plain": [
              "Diesel      4748\n",
              "Unleaded    3199\n",
              "Electric      56\n",
              "Gas           16\n",
              "Hybrid         2\n",
              "Propane        1\n",
              "Name: Fuel Type, dtype: int64"
            ]
          },
          "metadata": {},
          "execution_count": 20
        }
      ]
    },
    {
      "cell_type": "code",
      "source": [
        "np.round(df['Fuel Type'].value_counts(normalize = True, dropna = False)*100,decimals = 2)"
      ],
      "metadata": {
        "colab": {
          "base_uri": "https://localhost:8080/"
        },
        "id": "Rav-I9QSZB6M",
        "outputId": "21a5e1d2-02ff-402d-b869-fefc220b9d58"
      },
      "execution_count": null,
      "outputs": [
        {
          "output_type": "execute_result",
          "data": {
            "text/plain": [
              "Diesel      45.90\n",
              "Unleaded    30.93\n",
              "NaN         22.45\n",
              "Electric     0.54\n",
              "Gas          0.15\n",
              "Hybrid       0.02\n",
              "Propane      0.01\n",
              "Name: Fuel Type, dtype: float64"
            ]
          },
          "metadata": {},
          "execution_count": 120
        }
      ]
    },
    {
      "cell_type": "code",
      "source": [
        "df['Fuel Type'].unique()"
      ],
      "metadata": {
        "colab": {
          "base_uri": "https://localhost:8080/"
        },
        "id": "QgFHBWodet8q",
        "outputId": "e950ea96-a7e7-40ad-aa6d-a45968c7c8d4"
      },
      "execution_count": 22,
      "outputs": [
        {
          "output_type": "execute_result",
          "data": {
            "text/plain": [
              "array([nan, 'Unleaded', 'Electric', 'Diesel', 'Gas', 'Hybrid', 'Propane'],\n",
              "      dtype=object)"
            ]
          },
          "metadata": {},
          "execution_count": 22
        }
      ]
    },
    {
      "cell_type": "code",
      "source": [
        "df['Advertisement Date'] = pd.to_datetime(df['Advertisement Date'], format='%d.%m.%Y')"
      ],
      "metadata": {
        "id": "FLCKkwFtet_t"
      },
      "execution_count": 21,
      "outputs": []
    },
    {
      "cell_type": "code",
      "source": [
        "df['Advertisement Date'].tail()"
      ],
      "metadata": {
        "colab": {
          "base_uri": "https://localhost:8080/"
        },
        "id": "7r6x4SZjiHUt",
        "outputId": "f2a8a8eb-bf3d-418b-d7f8-d94d5174e322"
      },
      "execution_count": 23,
      "outputs": [
        {
          "output_type": "execute_result",
          "data": {
            "text/plain": [
              "10339          NaT\n",
              "10340          NaT\n",
              "10341          NaT\n",
              "10342   2020-07-23\n",
              "10343          NaT\n",
              "Name: Advertisement Date, dtype: datetime64[ns]"
            ]
          },
          "metadata": {},
          "execution_count": 23
        }
      ]
    },
    {
      "cell_type": "code",
      "source": [
        "df['Length'] = df['Length'].str.rstrip(' m')\n",
        "\n",
        "df['Length'] = pd.to_numeric(df['Length'])"
      ],
      "metadata": {
        "id": "yg3uwjXKjqZR"
      },
      "execution_count": 24,
      "outputs": []
    },
    {
      "cell_type": "code",
      "source": [
        "df['Length'].astype(float)"
      ],
      "metadata": {
        "colab": {
          "base_uri": "https://localhost:8080/"
        },
        "id": "4aRPlauNjqch",
        "outputId": "cd8f42f9-724a-4c7b-eee6-39ed0e4daae2"
      },
      "execution_count": 26,
      "outputs": [
        {
          "output_type": "execute_result",
          "data": {
            "text/plain": [
              "0        4.00\n",
              "1        4.00\n",
              "2        3.69\n",
              "3        3.00\n",
              "4        6.30\n",
              "         ... \n",
              "10339    4.17\n",
              "10340    4.40\n",
              "10341    4.37\n",
              "10342    4.27\n",
              "10343    3.60\n",
              "Name: Length, Length: 10344, dtype: float64"
            ]
          },
          "metadata": {},
          "execution_count": 26
        }
      ]
    },
    {
      "cell_type": "code",
      "source": [
        "def format_series(series, char):\n",
        "\n",
        "  new_series = series.str.rstrip(char)\n",
        "  new_series = pd.to_numeric(new_series)\n",
        "\n",
        "  return new_series"
      ],
      "metadata": {
        "id": "d6Qgu6axjqfY"
      },
      "execution_count": 27,
      "outputs": []
    },
    {
      "cell_type": "code",
      "source": [
        "for col in ['Width', 'Depth']:\n",
        "\n",
        "  df[col] = format_series(df[col], ' m')"
      ],
      "metadata": {
        "id": "ytoigmzwjqiV"
      },
      "execution_count": 28,
      "outputs": []
    },
    {
      "cell_type": "code",
      "source": [
        "df['Engine Hours'] = format_series(df['Engine Hours'], ' h')"
      ],
      "metadata": {
        "id": "tUdJtDGijqoQ"
      },
      "execution_count": 29,
      "outputs": []
    },
    {
      "cell_type": "code",
      "source": [
        "for col in ['Fresh Water Cap', 'Holding Tank', 'Fuel Capacity']:\n",
        "  df[col] = format_series(df[col], ' l')"
      ],
      "metadata": {
        "id": "gf5GXlpJn2O2"
      },
      "execution_count": 30,
      "outputs": []
    },
    {
      "cell_type": "code",
      "source": [
        "df.select_dtypes(include= \"datetime64\").columns"
      ],
      "metadata": {
        "id": "azg5zTCPf40e",
        "outputId": "8aa8de4d-f021-46f9-d60b-db47edc3a78e",
        "colab": {
          "base_uri": "https://localhost:8080/"
        }
      },
      "execution_count": 48,
      "outputs": [
        {
          "output_type": "execute_result",
          "data": {
            "text/plain": [
              "Index(['Advertisement Date'], dtype='object')"
            ]
          },
          "metadata": {},
          "execution_count": 48
        }
      ]
    },
    {
      "cell_type": "code",
      "source": [
        "col_objects_1 = df.select_dtypes(include = 'object').columns\n",
        "\n",
        "for col in col_objects_1:\n",
        "  print(f\"Column {col} has {len(df[col].unique())} categories\\n\" )"
      ],
      "metadata": {
        "colab": {
          "base_uri": "https://localhost:8080/"
        },
        "id": "3DkKNjS5ou1R",
        "outputId": "8f0fd21b-0ba4-4d3f-d334-74805805d635"
      },
      "execution_count": 50,
      "outputs": [
        {
          "output_type": "stream",
          "name": "stdout",
          "text": [
            "Column Price has 3283 categories\n",
            "\n",
            "Column Category has 1 categories\n",
            "\n",
            "Column Boat Type has 135 categories\n",
            "\n",
            "Column Manufacturer has 933 categories\n",
            "\n",
            "Column Model has 7459 categories\n",
            "\n",
            "Column Boat name has 1259 categories\n",
            "\n",
            "Column Type has 37 categories\n",
            "\n",
            "Column Condition has 11 categories\n",
            "\n",
            "Column Displacement has 1381 categories\n",
            "\n",
            "Column CE Design Category has 5 categories\n",
            "\n",
            "Column Hull Color has 378 categories\n",
            "\n",
            "Column Material has 12 categories\n",
            "\n",
            "Column Propulsion has 9 categories\n",
            "\n",
            "Column Engine has 4753 categories\n",
            "\n",
            "Column Engine Performance has 844 categories\n",
            "\n",
            "Column Fuel Type has 7 categories\n",
            "\n",
            "Column Max Speed has 100 categories\n",
            "\n",
            "Column Cruising Speed has 58 categories\n",
            "\n",
            "Column Location has 3178 categories\n",
            "\n",
            "Column Number of views last 7 days has 681 categories\n",
            "\n",
            "Column Comments has 6632 categories\n",
            "\n",
            "Column Additional Comments has 2411 categories\n",
            "\n",
            "Column Equipment has 5302 categories\n",
            "\n"
          ]
        }
      ]
    },
    {
      "cell_type": "code",
      "source": [
        "list_col_to_delete_part1 = ['Category']"
      ],
      "metadata": {
        "id": "JbSvVhEiqdVZ"
      },
      "execution_count": 49,
      "outputs": []
    },
    {
      "cell_type": "code",
      "source": [
        "df.columns"
      ],
      "metadata": {
        "id": "WXlUKPiCgweu",
        "outputId": "82812ef9-6209-417d-f5e3-4d2296f7138d",
        "colab": {
          "base_uri": "https://localhost:8080/"
        }
      },
      "execution_count": 53,
      "outputs": [
        {
          "output_type": "execute_result",
          "data": {
            "text/plain": [
              "Index(['Price', 'Category', 'Boat Type', 'Manufacturer', 'Model', 'Boat name',\n",
              "       'Type', 'Year Built', 'Condition', 'Length', 'Width', 'Depth',\n",
              "       'Displacement', 'CE Design Category', 'Cert Number of People',\n",
              "       'Number of Cabins', 'Number of beds', 'Hull Color', 'Number of Toilets',\n",
              "       'Number of Bathrooms', 'Number of Showers', 'Material',\n",
              "       'Fresh Water Cap', 'Holding Tank', 'Propulsion', 'Engine',\n",
              "       'Engine Performance', 'Fuel Capacity', 'Fuel Type', 'Engine Hours',\n",
              "       'Max Speed', 'Cruising Speed', 'Location', 'Advertisement Date',\n",
              "       'Number of views last 7 days', 'Comments', 'Additional Comments',\n",
              "       'Equipment'],\n",
              "      dtype='object')"
            ]
          },
          "metadata": {},
          "execution_count": 53
        }
      ]
    },
    {
      "cell_type": "code",
      "source": [
        "# Split the data in 2 parts \n",
        "# Train val & test\n",
        "# Split done with a temporar basis\n",
        "\n",
        "df.set_index(['Advertisement Date']).resample('M').size()"
      ],
      "metadata": {
        "id": "Cm0oFQJCgwhU",
        "outputId": "114004e5-4008-45c7-e800-f36c07365b78",
        "colab": {
          "base_uri": "https://localhost:8080/"
        }
      },
      "execution_count": 57,
      "outputs": [
        {
          "output_type": "execute_result",
          "data": {
            "text/plain": [
              "Advertisement Date\n",
              "2020-03-31      5\n",
              "2020-04-30     23\n",
              "2020-05-31     84\n",
              "2020-06-30    282\n",
              "2020-07-31    476\n",
              "dtype: int64"
            ]
          },
          "metadata": {},
          "execution_count": 57
        }
      ]
    },
    {
      "cell_type": "code",
      "source": [
        "# Train and validation\n",
        "train_val = df[df['Advertisement Date'] < '2022-01-01'].reset_index(drop=True)\n",
        "test = df[df['Advertisement Date'] >= '2021-01-01'].reset_index(drop=True)\n",
        "\n"
      ],
      "metadata": {
        "id": "bb-ElC6vhH03"
      },
      "execution_count": 79,
      "outputs": []
    },
    {
      "cell_type": "code",
      "source": [
        "train_val.duplicated(keep = False)"
      ],
      "metadata": {
        "id": "O0EGBoM2iAK5",
        "outputId": "62c60313-0118-4707-c727-784415371d1e",
        "colab": {
          "base_uri": "https://localhost:8080/"
        }
      },
      "execution_count": 80,
      "outputs": [
        {
          "output_type": "execute_result",
          "data": {
            "text/plain": [
              "0      False\n",
              "1      False\n",
              "2      False\n",
              "3      False\n",
              "4      False\n",
              "       ...  \n",
              "865    False\n",
              "866    False\n",
              "867    False\n",
              "868    False\n",
              "869    False\n",
              "Length: 870, dtype: bool"
            ]
          },
          "metadata": {},
          "execution_count": 80
        }
      ]
    },
    {
      "cell_type": "code",
      "source": [
        "print(f'The database has {df[df.duplicated(keep=False)].shape[0]} true duplicates']"
      ],
      "metadata": {
        "id": "37BIEOMVib4r",
        "outputId": "d99eef00-1f58-400c-8b77-f145d648fab1",
        "colab": {
          "base_uri": "https://localhost:8080/",
          "height": 130
        }
      },
      "execution_count": 91,
      "outputs": [
        {
          "output_type": "error",
          "ename": "SyntaxError",
          "evalue": "ignored",
          "traceback": [
            "\u001b[0;36m  File \u001b[0;32m\"<ipython-input-91-3cc2abd1be50>\"\u001b[0;36m, line \u001b[0;32m1\u001b[0m\n\u001b[0;31m    print(f'The database has {df[df.duplicated(keep=False)].shape[0]} true duplicates']\u001b[0m\n\u001b[0m                                                                                      ^\u001b[0m\n\u001b[0;31mSyntaxError\u001b[0m\u001b[0;31m:\u001b[0m invalid syntax\n"
          ]
        }
      ]
    },
    {
      "cell_type": "code",
      "source": [
        ""
      ],
      "metadata": {
        "id": "mBUR356vjSwt",
        "outputId": "be3a4d07-4a39-443e-8410-3efdbe60e803",
        "colab": {
          "base_uri": "https://localhost:8080/",
          "height": 183
        }
      },
      "execution_count": 78,
      "outputs": [
        {
          "output_type": "execute_result",
          "data": {
            "text/plain": [
              "Empty DataFrame\n",
              "Columns: [Price, Category, Boat Type, Manufacturer, Model, Boat name, Type, Year Built, Condition, Length, Width, Depth, Displacement, CE Design Category, Cert Number of People, Number of Cabins, Number of beds, Hull Color, Number of Toilets, Number of Bathrooms, Number of Showers, Material, Fresh Water Cap, Holding Tank, Propulsion, Engine, Engine Performance, Fuel Capacity, Fuel Type, Engine Hours, Max Speed, Cruising Speed, Location, Advertisement Date, Number of views last 7 days, Comments, Additional Comments, Equipment]\n",
              "Index: []"
            ],
            "text/html": [
              "\n",
              "  <div id=\"df-40b4debd-4c98-42d7-bb4a-6c7e37ac9484\">\n",
              "    <div class=\"colab-df-container\">\n",
              "      <div>\n",
              "<style scoped>\n",
              "    .dataframe tbody tr th:only-of-type {\n",
              "        vertical-align: middle;\n",
              "    }\n",
              "\n",
              "    .dataframe tbody tr th {\n",
              "        vertical-align: top;\n",
              "    }\n",
              "\n",
              "    .dataframe thead th {\n",
              "        text-align: right;\n",
              "    }\n",
              "</style>\n",
              "<table border=\"1\" class=\"dataframe\">\n",
              "  <thead>\n",
              "    <tr style=\"text-align: right;\">\n",
              "      <th></th>\n",
              "      <th>Price</th>\n",
              "      <th>Category</th>\n",
              "      <th>Boat Type</th>\n",
              "      <th>Manufacturer</th>\n",
              "      <th>Model</th>\n",
              "      <th>Boat name</th>\n",
              "      <th>Type</th>\n",
              "      <th>Year Built</th>\n",
              "      <th>Condition</th>\n",
              "      <th>Length</th>\n",
              "      <th>Width</th>\n",
              "      <th>Depth</th>\n",
              "      <th>Displacement</th>\n",
              "      <th>CE Design Category</th>\n",
              "      <th>Cert Number of People</th>\n",
              "      <th>Number of Cabins</th>\n",
              "      <th>Number of beds</th>\n",
              "      <th>Hull Color</th>\n",
              "      <th>Number of Toilets</th>\n",
              "      <th>Number of Bathrooms</th>\n",
              "      <th>Number of Showers</th>\n",
              "      <th>Material</th>\n",
              "      <th>Fresh Water Cap</th>\n",
              "      <th>Holding Tank</th>\n",
              "      <th>Propulsion</th>\n",
              "      <th>Engine</th>\n",
              "      <th>Engine Performance</th>\n",
              "      <th>Fuel Capacity</th>\n",
              "      <th>Fuel Type</th>\n",
              "      <th>Engine Hours</th>\n",
              "      <th>Max Speed</th>\n",
              "      <th>Cruising Speed</th>\n",
              "      <th>Location</th>\n",
              "      <th>Advertisement Date</th>\n",
              "      <th>Number of views last 7 days</th>\n",
              "      <th>Comments</th>\n",
              "      <th>Additional Comments</th>\n",
              "      <th>Equipment</th>\n",
              "    </tr>\n",
              "  </thead>\n",
              "  <tbody>\n",
              "  </tbody>\n",
              "</table>\n",
              "</div>\n",
              "      <button class=\"colab-df-convert\" onclick=\"convertToInteractive('df-40b4debd-4c98-42d7-bb4a-6c7e37ac9484')\"\n",
              "              title=\"Convert this dataframe to an interactive table.\"\n",
              "              style=\"display:none;\">\n",
              "        \n",
              "  <svg xmlns=\"http://www.w3.org/2000/svg\" height=\"24px\"viewBox=\"0 0 24 24\"\n",
              "       width=\"24px\">\n",
              "    <path d=\"M0 0h24v24H0V0z\" fill=\"none\"/>\n",
              "    <path d=\"M18.56 5.44l.94 2.06.94-2.06 2.06-.94-2.06-.94-.94-2.06-.94 2.06-2.06.94zm-11 1L8.5 8.5l.94-2.06 2.06-.94-2.06-.94L8.5 2.5l-.94 2.06-2.06.94zm10 10l.94 2.06.94-2.06 2.06-.94-2.06-.94-.94-2.06-.94 2.06-2.06.94z\"/><path d=\"M17.41 7.96l-1.37-1.37c-.4-.4-.92-.59-1.43-.59-.52 0-1.04.2-1.43.59L10.3 9.45l-7.72 7.72c-.78.78-.78 2.05 0 2.83L4 21.41c.39.39.9.59 1.41.59.51 0 1.02-.2 1.41-.59l7.78-7.78 2.81-2.81c.8-.78.8-2.07 0-2.86zM5.41 20L4 18.59l7.72-7.72 1.47 1.35L5.41 20z\"/>\n",
              "  </svg>\n",
              "      </button>\n",
              "      \n",
              "  <style>\n",
              "    .colab-df-container {\n",
              "      display:flex;\n",
              "      flex-wrap:wrap;\n",
              "      gap: 12px;\n",
              "    }\n",
              "\n",
              "    .colab-df-convert {\n",
              "      background-color: #E8F0FE;\n",
              "      border: none;\n",
              "      border-radius: 50%;\n",
              "      cursor: pointer;\n",
              "      display: none;\n",
              "      fill: #1967D2;\n",
              "      height: 32px;\n",
              "      padding: 0 0 0 0;\n",
              "      width: 32px;\n",
              "    }\n",
              "\n",
              "    .colab-df-convert:hover {\n",
              "      background-color: #E2EBFA;\n",
              "      box-shadow: 0px 1px 2px rgba(60, 64, 67, 0.3), 0px 1px 3px 1px rgba(60, 64, 67, 0.15);\n",
              "      fill: #174EA6;\n",
              "    }\n",
              "\n",
              "    [theme=dark] .colab-df-convert {\n",
              "      background-color: #3B4455;\n",
              "      fill: #D2E3FC;\n",
              "    }\n",
              "\n",
              "    [theme=dark] .colab-df-convert:hover {\n",
              "      background-color: #434B5C;\n",
              "      box-shadow: 0px 1px 3px 1px rgba(0, 0, 0, 0.15);\n",
              "      filter: drop-shadow(0px 1px 2px rgba(0, 0, 0, 0.3));\n",
              "      fill: #FFFFFF;\n",
              "    }\n",
              "  </style>\n",
              "\n",
              "      <script>\n",
              "        const buttonEl =\n",
              "          document.querySelector('#df-40b4debd-4c98-42d7-bb4a-6c7e37ac9484 button.colab-df-convert');\n",
              "        buttonEl.style.display =\n",
              "          google.colab.kernel.accessAllowed ? 'block' : 'none';\n",
              "\n",
              "        async function convertToInteractive(key) {\n",
              "          const element = document.querySelector('#df-40b4debd-4c98-42d7-bb4a-6c7e37ac9484');\n",
              "          const dataTable =\n",
              "            await google.colab.kernel.invokeFunction('convertToInteractive',\n",
              "                                                     [key], {});\n",
              "          if (!dataTable) return;\n",
              "\n",
              "          const docLinkHtml = 'Like what you see? Visit the ' +\n",
              "            '<a target=\"_blank\" href=https://colab.research.google.com/notebooks/data_table.ipynb>data table notebook</a>'\n",
              "            + ' to learn more about interactive tables.';\n",
              "          element.innerHTML = '';\n",
              "          dataTable['output_type'] = 'display_data';\n",
              "          await google.colab.output.renderOutput(dataTable, element);\n",
              "          const docLink = document.createElement('div');\n",
              "          docLink.innerHTML = docLinkHtml;\n",
              "          element.appendChild(docLink);\n",
              "        }\n",
              "      </script>\n",
              "    </div>\n",
              "  </div>\n",
              "  "
            ]
          },
          "metadata": {},
          "execution_count": 78
        }
      ]
    },
    {
      "cell_type": "code",
      "source": [
        "# Create a conversion table\n",
        "create_change = {'Currency_A': ['EUR', 'GBP', 'DKK', 'SEK', 'USD', 'CHF'], \n",
        "               'Currency_B': ['CHF', 'CHF', 'CHF', 'CHF', 'CHF', 'CHF'], \n",
        "               'Change': [1.05, 1.24, 0.14, 0.11, 0.92, 1]}\n",
        "change = pd.DataFrame(data=create_change)\n",
        "change"
      ],
      "metadata": {
        "id": "A87zK-1yjkhe",
        "outputId": "f5f92ff8-5abf-4c18-a24b-dbf6a21e45ff",
        "colab": {
          "base_uri": "https://localhost:8080/",
          "height": 238
        }
      },
      "execution_count": 82,
      "outputs": [
        {
          "output_type": "execute_result",
          "data": {
            "text/plain": [
              "  Currency_A Currency_B  Change\n",
              "0        EUR        CHF    1.05\n",
              "1        GBP        CHF    1.24\n",
              "2        DKK        CHF    0.14\n",
              "3        SEK        CHF    0.11\n",
              "4        USD        CHF    0.92\n",
              "5        CHF        CHF    1.00"
            ],
            "text/html": [
              "\n",
              "  <div id=\"df-dc80d5ce-67b3-49fa-8fe4-c41b170372c3\">\n",
              "    <div class=\"colab-df-container\">\n",
              "      <div>\n",
              "<style scoped>\n",
              "    .dataframe tbody tr th:only-of-type {\n",
              "        vertical-align: middle;\n",
              "    }\n",
              "\n",
              "    .dataframe tbody tr th {\n",
              "        vertical-align: top;\n",
              "    }\n",
              "\n",
              "    .dataframe thead th {\n",
              "        text-align: right;\n",
              "    }\n",
              "</style>\n",
              "<table border=\"1\" class=\"dataframe\">\n",
              "  <thead>\n",
              "    <tr style=\"text-align: right;\">\n",
              "      <th></th>\n",
              "      <th>Currency_A</th>\n",
              "      <th>Currency_B</th>\n",
              "      <th>Change</th>\n",
              "    </tr>\n",
              "  </thead>\n",
              "  <tbody>\n",
              "    <tr>\n",
              "      <th>0</th>\n",
              "      <td>EUR</td>\n",
              "      <td>CHF</td>\n",
              "      <td>1.05</td>\n",
              "    </tr>\n",
              "    <tr>\n",
              "      <th>1</th>\n",
              "      <td>GBP</td>\n",
              "      <td>CHF</td>\n",
              "      <td>1.24</td>\n",
              "    </tr>\n",
              "    <tr>\n",
              "      <th>2</th>\n",
              "      <td>DKK</td>\n",
              "      <td>CHF</td>\n",
              "      <td>0.14</td>\n",
              "    </tr>\n",
              "    <tr>\n",
              "      <th>3</th>\n",
              "      <td>SEK</td>\n",
              "      <td>CHF</td>\n",
              "      <td>0.11</td>\n",
              "    </tr>\n",
              "    <tr>\n",
              "      <th>4</th>\n",
              "      <td>USD</td>\n",
              "      <td>CHF</td>\n",
              "      <td>0.92</td>\n",
              "    </tr>\n",
              "    <tr>\n",
              "      <th>5</th>\n",
              "      <td>CHF</td>\n",
              "      <td>CHF</td>\n",
              "      <td>1.00</td>\n",
              "    </tr>\n",
              "  </tbody>\n",
              "</table>\n",
              "</div>\n",
              "      <button class=\"colab-df-convert\" onclick=\"convertToInteractive('df-dc80d5ce-67b3-49fa-8fe4-c41b170372c3')\"\n",
              "              title=\"Convert this dataframe to an interactive table.\"\n",
              "              style=\"display:none;\">\n",
              "        \n",
              "  <svg xmlns=\"http://www.w3.org/2000/svg\" height=\"24px\"viewBox=\"0 0 24 24\"\n",
              "       width=\"24px\">\n",
              "    <path d=\"M0 0h24v24H0V0z\" fill=\"none\"/>\n",
              "    <path d=\"M18.56 5.44l.94 2.06.94-2.06 2.06-.94-2.06-.94-.94-2.06-.94 2.06-2.06.94zm-11 1L8.5 8.5l.94-2.06 2.06-.94-2.06-.94L8.5 2.5l-.94 2.06-2.06.94zm10 10l.94 2.06.94-2.06 2.06-.94-2.06-.94-.94-2.06-.94 2.06-2.06.94z\"/><path d=\"M17.41 7.96l-1.37-1.37c-.4-.4-.92-.59-1.43-.59-.52 0-1.04.2-1.43.59L10.3 9.45l-7.72 7.72c-.78.78-.78 2.05 0 2.83L4 21.41c.39.39.9.59 1.41.59.51 0 1.02-.2 1.41-.59l7.78-7.78 2.81-2.81c.8-.78.8-2.07 0-2.86zM5.41 20L4 18.59l7.72-7.72 1.47 1.35L5.41 20z\"/>\n",
              "  </svg>\n",
              "      </button>\n",
              "      \n",
              "  <style>\n",
              "    .colab-df-container {\n",
              "      display:flex;\n",
              "      flex-wrap:wrap;\n",
              "      gap: 12px;\n",
              "    }\n",
              "\n",
              "    .colab-df-convert {\n",
              "      background-color: #E8F0FE;\n",
              "      border: none;\n",
              "      border-radius: 50%;\n",
              "      cursor: pointer;\n",
              "      display: none;\n",
              "      fill: #1967D2;\n",
              "      height: 32px;\n",
              "      padding: 0 0 0 0;\n",
              "      width: 32px;\n",
              "    }\n",
              "\n",
              "    .colab-df-convert:hover {\n",
              "      background-color: #E2EBFA;\n",
              "      box-shadow: 0px 1px 2px rgba(60, 64, 67, 0.3), 0px 1px 3px 1px rgba(60, 64, 67, 0.15);\n",
              "      fill: #174EA6;\n",
              "    }\n",
              "\n",
              "    [theme=dark] .colab-df-convert {\n",
              "      background-color: #3B4455;\n",
              "      fill: #D2E3FC;\n",
              "    }\n",
              "\n",
              "    [theme=dark] .colab-df-convert:hover {\n",
              "      background-color: #434B5C;\n",
              "      box-shadow: 0px 1px 3px 1px rgba(0, 0, 0, 0.15);\n",
              "      filter: drop-shadow(0px 1px 2px rgba(0, 0, 0, 0.3));\n",
              "      fill: #FFFFFF;\n",
              "    }\n",
              "  </style>\n",
              "\n",
              "      <script>\n",
              "        const buttonEl =\n",
              "          document.querySelector('#df-dc80d5ce-67b3-49fa-8fe4-c41b170372c3 button.colab-df-convert');\n",
              "        buttonEl.style.display =\n",
              "          google.colab.kernel.accessAllowed ? 'block' : 'none';\n",
              "\n",
              "        async function convertToInteractive(key) {\n",
              "          const element = document.querySelector('#df-dc80d5ce-67b3-49fa-8fe4-c41b170372c3');\n",
              "          const dataTable =\n",
              "            await google.colab.kernel.invokeFunction('convertToInteractive',\n",
              "                                                     [key], {});\n",
              "          if (!dataTable) return;\n",
              "\n",
              "          const docLinkHtml = 'Like what you see? Visit the ' +\n",
              "            '<a target=\"_blank\" href=https://colab.research.google.com/notebooks/data_table.ipynb>data table notebook</a>'\n",
              "            + ' to learn more about interactive tables.';\n",
              "          element.innerHTML = '';\n",
              "          dataTable['output_type'] = 'display_data';\n",
              "          await google.colab.output.renderOutput(dataTable, element);\n",
              "          const docLink = document.createElement('div');\n",
              "          docLink.innerHTML = docLinkHtml;\n",
              "          element.appendChild(docLink);\n",
              "        }\n",
              "      </script>\n",
              "    </div>\n",
              "  </div>\n",
              "  "
            ]
          },
          "metadata": {},
          "execution_count": 82
        }
      ]
    },
    {
      "cell_type": "code",
      "source": [
        "dict_change = dict(zip(change.iloc[:,0], change.iloc[:,2]))"
      ],
      "metadata": {
        "id": "6iWGlTHcjkke"
      },
      "execution_count": 89,
      "outputs": []
    },
    {
      "cell_type": "code",
      "source": [
        "data_part = train_val['Price']"
      ],
      "metadata": {
        "id": "zCEP67CyjknK"
      },
      "execution_count": 118,
      "outputs": []
    },
    {
      "cell_type": "code",
      "source": [
        "data_part = df['Price'].str.partition(\" \")\n",
        "\n",
        "data_part[0] = data_part[0].str.replace('£', 'GBP')\n",
        "\n",
        "data_part[2] = data_part[2].str.replace('.', '')\n",
        "data_part[2] = data_part[2].str.replace(',', '')\n",
        "data_part[2] = data_part[2].str.replace('-', '')\n",
        "\n",
        "#data_part[2] = data_part[2].astype(float, errors = 'raise')"
      ],
      "metadata": {
        "id": "lCtH8hbRjkqO",
        "outputId": "183bf97d-f3ca-4a5f-a90e-94219e9c1bfb",
        "colab": {
          "base_uri": "https://localhost:8080/"
        }
      },
      "execution_count": 122,
      "outputs": [
        {
          "output_type": "stream",
          "name": "stderr",
          "text": [
            "/usr/local/lib/python3.7/dist-packages/ipykernel_launcher.py:5: FutureWarning: The default value of regex will change from True to False in a future version. In addition, single character regular expressions will *not* be treated as literal strings when regex=True.\n",
            "  \"\"\"\n"
          ]
        }
      ]
    },
    {
      "cell_type": "code",
      "source": [
        "data_part[2].astype(int)"
      ],
      "metadata": {
        "id": "Q-Fae-O4jkv8",
        "outputId": "25b2387a-228b-48b0-c817-671a527d5dd8",
        "colab": {
          "base_uri": "https://localhost:8080/",
          "height": 165
        }
      },
      "execution_count": 119,
      "outputs": [
        {
          "output_type": "error",
          "ename": "AttributeError",
          "evalue": "ignored",
          "traceback": [
            "\u001b[0;31m---------------------------------------------------------------------------\u001b[0m",
            "\u001b[0;31mAttributeError\u001b[0m                            Traceback (most recent call last)",
            "\u001b[0;32m<ipython-input-119-066ce0150568>\u001b[0m in \u001b[0;36m<module>\u001b[0;34m()\u001b[0m\n\u001b[0;32m----> 1\u001b[0;31m \u001b[0mdata_part\u001b[0m\u001b[0;34m[\u001b[0m\u001b[0;36m2\u001b[0m\u001b[0;34m]\u001b[0m\u001b[0;34m.\u001b[0m\u001b[0mastype\u001b[0m\u001b[0;34m(\u001b[0m\u001b[0mint\u001b[0m\u001b[0;34m)\u001b[0m\u001b[0;34m\u001b[0m\u001b[0;34m\u001b[0m\u001b[0m\n\u001b[0m",
            "\u001b[0;31mAttributeError\u001b[0m: 'str' object has no attribute 'astype'"
          ]
        }
      ]
    },
    {
      "cell_type": "code",
      "source": [
        "#Price conversion\n",
        "\n",
        "new_price = data_part.apply(lambda x: dict_change[x[0]] * x[2], axis = 1)"
      ],
      "metadata": {
        "id": "7o1VkyQXjk1q",
        "outputId": "f2894136-bb90-41c5-f2a9-f55501a1855d",
        "colab": {
          "base_uri": "https://localhost:8080/",
          "height": 311
        }
      },
      "execution_count": 134,
      "outputs": [
        {
          "output_type": "error",
          "ename": "KeyError",
          "evalue": "ignored",
          "traceback": [
            "\u001b[0;31m---------------------------------------------------------------------------\u001b[0m",
            "\u001b[0;31mKeyError\u001b[0m                                  Traceback (most recent call last)",
            "\u001b[0;32m<ipython-input-134-4ca9ca300238>\u001b[0m in \u001b[0;36m<module>\u001b[0;34m()\u001b[0m\n\u001b[1;32m      1\u001b[0m \u001b[0;31m#Price conversion\u001b[0m\u001b[0;34m\u001b[0m\u001b[0;34m\u001b[0m\u001b[0;34m\u001b[0m\u001b[0m\n\u001b[1;32m      2\u001b[0m \u001b[0;34m\u001b[0m\u001b[0m\n\u001b[0;32m----> 3\u001b[0;31m \u001b[0mnew_price\u001b[0m \u001b[0;34m=\u001b[0m \u001b[0mdata_part\u001b[0m\u001b[0;34m.\u001b[0m\u001b[0mapply\u001b[0m\u001b[0;34m(\u001b[0m\u001b[0;32mlambda\u001b[0m \u001b[0mx\u001b[0m\u001b[0;34m:\u001b[0m \u001b[0mdict_change\u001b[0m\u001b[0;34m[\u001b[0m\u001b[0mx\u001b[0m\u001b[0;34m[\u001b[0m\u001b[0;36m0\u001b[0m\u001b[0;34m]\u001b[0m\u001b[0;34m]\u001b[0m\u001b[0;34m,\u001b[0m \u001b[0maxis\u001b[0m \u001b[0;34m=\u001b[0m \u001b[0;36m1\u001b[0m\u001b[0;34m)\u001b[0m\u001b[0;34m\u001b[0m\u001b[0;34m\u001b[0m\u001b[0m\n\u001b[0m",
            "\u001b[0;32m/usr/local/lib/python3.7/dist-packages/pandas/core/frame.py\u001b[0m in \u001b[0;36mapply\u001b[0;34m(self, func, axis, raw, result_type, args, **kwargs)\u001b[0m\n\u001b[1;32m   8738\u001b[0m             \u001b[0mkwargs\u001b[0m\u001b[0;34m=\u001b[0m\u001b[0mkwargs\u001b[0m\u001b[0;34m,\u001b[0m\u001b[0;34m\u001b[0m\u001b[0;34m\u001b[0m\u001b[0m\n\u001b[1;32m   8739\u001b[0m         )\n\u001b[0;32m-> 8740\u001b[0;31m         \u001b[0;32mreturn\u001b[0m \u001b[0mop\u001b[0m\u001b[0;34m.\u001b[0m\u001b[0mapply\u001b[0m\u001b[0;34m(\u001b[0m\u001b[0;34m)\u001b[0m\u001b[0;34m\u001b[0m\u001b[0;34m\u001b[0m\u001b[0m\n\u001b[0m\u001b[1;32m   8741\u001b[0m \u001b[0;34m\u001b[0m\u001b[0m\n\u001b[1;32m   8742\u001b[0m     def applymap(\n",
            "\u001b[0;32m/usr/local/lib/python3.7/dist-packages/pandas/core/apply.py\u001b[0m in \u001b[0;36mapply\u001b[0;34m(self)\u001b[0m\n\u001b[1;32m    686\u001b[0m             \u001b[0;32mreturn\u001b[0m \u001b[0mself\u001b[0m\u001b[0;34m.\u001b[0m\u001b[0mapply_raw\u001b[0m\u001b[0;34m(\u001b[0m\u001b[0;34m)\u001b[0m\u001b[0;34m\u001b[0m\u001b[0;34m\u001b[0m\u001b[0m\n\u001b[1;32m    687\u001b[0m \u001b[0;34m\u001b[0m\u001b[0m\n\u001b[0;32m--> 688\u001b[0;31m         \u001b[0;32mreturn\u001b[0m \u001b[0mself\u001b[0m\u001b[0;34m.\u001b[0m\u001b[0mapply_standard\u001b[0m\u001b[0;34m(\u001b[0m\u001b[0;34m)\u001b[0m\u001b[0;34m\u001b[0m\u001b[0;34m\u001b[0m\u001b[0m\n\u001b[0m\u001b[1;32m    689\u001b[0m \u001b[0;34m\u001b[0m\u001b[0m\n\u001b[1;32m    690\u001b[0m     \u001b[0;32mdef\u001b[0m \u001b[0magg\u001b[0m\u001b[0;34m(\u001b[0m\u001b[0mself\u001b[0m\u001b[0;34m)\u001b[0m\u001b[0;34m:\u001b[0m\u001b[0;34m\u001b[0m\u001b[0;34m\u001b[0m\u001b[0m\n",
            "\u001b[0;32m/usr/local/lib/python3.7/dist-packages/pandas/core/apply.py\u001b[0m in \u001b[0;36mapply_standard\u001b[0;34m(self)\u001b[0m\n\u001b[1;32m    810\u001b[0m \u001b[0;34m\u001b[0m\u001b[0m\n\u001b[1;32m    811\u001b[0m     \u001b[0;32mdef\u001b[0m \u001b[0mapply_standard\u001b[0m\u001b[0;34m(\u001b[0m\u001b[0mself\u001b[0m\u001b[0;34m)\u001b[0m\u001b[0;34m:\u001b[0m\u001b[0;34m\u001b[0m\u001b[0;34m\u001b[0m\u001b[0m\n\u001b[0;32m--> 812\u001b[0;31m         \u001b[0mresults\u001b[0m\u001b[0;34m,\u001b[0m \u001b[0mres_index\u001b[0m \u001b[0;34m=\u001b[0m \u001b[0mself\u001b[0m\u001b[0;34m.\u001b[0m\u001b[0mapply_series_generator\u001b[0m\u001b[0;34m(\u001b[0m\u001b[0;34m)\u001b[0m\u001b[0;34m\u001b[0m\u001b[0;34m\u001b[0m\u001b[0m\n\u001b[0m\u001b[1;32m    813\u001b[0m \u001b[0;34m\u001b[0m\u001b[0m\n\u001b[1;32m    814\u001b[0m         \u001b[0;31m# wrap results\u001b[0m\u001b[0;34m\u001b[0m\u001b[0;34m\u001b[0m\u001b[0;34m\u001b[0m\u001b[0m\n",
            "\u001b[0;32m/usr/local/lib/python3.7/dist-packages/pandas/core/apply.py\u001b[0m in \u001b[0;36mapply_series_generator\u001b[0;34m(self)\u001b[0m\n\u001b[1;32m    826\u001b[0m             \u001b[0;32mfor\u001b[0m \u001b[0mi\u001b[0m\u001b[0;34m,\u001b[0m \u001b[0mv\u001b[0m \u001b[0;32min\u001b[0m \u001b[0menumerate\u001b[0m\u001b[0;34m(\u001b[0m\u001b[0mseries_gen\u001b[0m\u001b[0;34m)\u001b[0m\u001b[0;34m:\u001b[0m\u001b[0;34m\u001b[0m\u001b[0;34m\u001b[0m\u001b[0m\n\u001b[1;32m    827\u001b[0m                 \u001b[0;31m# ignore SettingWithCopy here in case the user mutates\u001b[0m\u001b[0;34m\u001b[0m\u001b[0;34m\u001b[0m\u001b[0;34m\u001b[0m\u001b[0m\n\u001b[0;32m--> 828\u001b[0;31m                 \u001b[0mresults\u001b[0m\u001b[0;34m[\u001b[0m\u001b[0mi\u001b[0m\u001b[0;34m]\u001b[0m \u001b[0;34m=\u001b[0m \u001b[0mself\u001b[0m\u001b[0;34m.\u001b[0m\u001b[0mf\u001b[0m\u001b[0;34m(\u001b[0m\u001b[0mv\u001b[0m\u001b[0;34m)\u001b[0m\u001b[0;34m\u001b[0m\u001b[0;34m\u001b[0m\u001b[0m\n\u001b[0m\u001b[1;32m    829\u001b[0m                 \u001b[0;32mif\u001b[0m \u001b[0misinstance\u001b[0m\u001b[0;34m(\u001b[0m\u001b[0mresults\u001b[0m\u001b[0;34m[\u001b[0m\u001b[0mi\u001b[0m\u001b[0;34m]\u001b[0m\u001b[0;34m,\u001b[0m \u001b[0mABCSeries\u001b[0m\u001b[0;34m)\u001b[0m\u001b[0;34m:\u001b[0m\u001b[0;34m\u001b[0m\u001b[0;34m\u001b[0m\u001b[0m\n\u001b[1;32m    830\u001b[0m                     \u001b[0;31m# If we have a view on v, we need to make a copy because\u001b[0m\u001b[0;34m\u001b[0m\u001b[0;34m\u001b[0m\u001b[0;34m\u001b[0m\u001b[0m\n",
            "\u001b[0;32m<ipython-input-134-4ca9ca300238>\u001b[0m in \u001b[0;36m<lambda>\u001b[0;34m(x)\u001b[0m\n\u001b[1;32m      1\u001b[0m \u001b[0;31m#Price conversion\u001b[0m\u001b[0;34m\u001b[0m\u001b[0;34m\u001b[0m\u001b[0;34m\u001b[0m\u001b[0m\n\u001b[1;32m      2\u001b[0m \u001b[0;34m\u001b[0m\u001b[0m\n\u001b[0;32m----> 3\u001b[0;31m \u001b[0mnew_price\u001b[0m \u001b[0;34m=\u001b[0m \u001b[0mdata_part\u001b[0m\u001b[0;34m.\u001b[0m\u001b[0mapply\u001b[0m\u001b[0;34m(\u001b[0m\u001b[0;32mlambda\u001b[0m \u001b[0mx\u001b[0m\u001b[0;34m:\u001b[0m \u001b[0mdict_change\u001b[0m\u001b[0;34m[\u001b[0m\u001b[0mx\u001b[0m\u001b[0;34m[\u001b[0m\u001b[0;36m0\u001b[0m\u001b[0;34m]\u001b[0m\u001b[0;34m]\u001b[0m\u001b[0;34m,\u001b[0m \u001b[0maxis\u001b[0m \u001b[0;34m=\u001b[0m \u001b[0;36m1\u001b[0m\u001b[0;34m)\u001b[0m\u001b[0;34m\u001b[0m\u001b[0;34m\u001b[0m\u001b[0m\n\u001b[0m",
            "\u001b[0;31mKeyError\u001b[0m: 'Price'"
          ]
        }
      ]
    },
    {
      "cell_type": "code",
      "source": [
        "dict_change[]"
      ],
      "metadata": {
        "id": "lUM4QCrQjk4S",
        "outputId": "82282a65-3994-47eb-caf3-3a12c0939794",
        "colab": {
          "base_uri": "https://localhost:8080/"
        }
      },
      "execution_count": 129,
      "outputs": [
        {
          "output_type": "execute_result",
          "data": {
            "text/plain": [
              "1.05"
            ]
          },
          "metadata": {},
          "execution_count": 129
        }
      ]
    },
    {
      "cell_type": "code",
      "source": [
        "feature_analyze_duplicates = ['Model', 'Type']"
      ],
      "metadata": {
        "id": "Bo196IFFptox"
      },
      "execution_count": 137,
      "outputs": []
    },
    {
      "cell_type": "code",
      "source": [
        "duplicated_boat = df[df.duplicated(subset = feature_analyze_duplicates , keep=False)].reset_index"
      ],
      "metadata": {
        "id": "-TYtt3Y3jk7B"
      },
      "execution_count": 139,
      "outputs": []
    },
    {
      "cell_type": "code",
      "source": [
        "duplicated_boat"
      ],
      "metadata": {
        "id": "16BneM_4qCnf",
        "outputId": "d36945a5-b177-42b1-cef3-d3d4583ca248",
        "colab": {
          "base_uri": "https://localhost:8080/"
        }
      },
      "execution_count": 140,
      "outputs": [
        {
          "output_type": "execute_result",
          "data": {
            "text/plain": [
              "<bound method DataFrame.reset_index of               Price     Category     Boat Type               Manufacturer  \\\n",
              "5       EUR 3.399,-  Power Boats  Fishing Boat         Linder power boats   \n",
              "23      EUR 4.000,-  Power Boats        Launch                        NaN   \n",
              "24      EUR 4.000,-  Power Boats        Launch                        NaN   \n",
              "32      CHF 4.030,-  Power Boats  Fishing Boat         Linder power boats   \n",
              "71      EUR 6.500,-  Power Boats    Cabin Boat      Dawncraft power boats   \n",
              "...             ...          ...           ...                        ...   \n",
              "10267  DKK 52.000,-  Power Boats    Sport Boat       Crescent power boats   \n",
              "10272   EUR 6.900,-  Power Boats    Cabin Boat    Hiltergerke power boats   \n",
              "10299   EUR 5.950,-  Power Boats  Pontoon Boat          Whaly power boats   \n",
              "10302   EUR 5.950,-  Power Boats    Cabin Boat                        NaN   \n",
              "10332   CHF 5.000,-  Power Boats     Water ski  Correct Craft power boats   \n",
              "\n",
              "                     Model Boat name                 Type  Year Built  \\\n",
              "5            355 Sportsman       NaN  new boat from stock      2019.0   \n",
              "23     Zaccagnino ANACONDA       NaN            Used boat      1984.0   \n",
              "24     Zaccagnino ANACONDA       NaN            Used boat      1984.0   \n",
              "32           355 Sportsman       NaN  new boat from stock      2018.0   \n",
              "71                      25       NaN   Used boat,Unleaded      1968.0   \n",
              "...                    ...       ...                  ...         ...   \n",
              "10267           465 Trader       NaN  new boat from stock      2019.0   \n",
              "10272               DC 620       NaN   Used boat,Unleaded      1981.0   \n",
              "10299                  500       NaN  new boat from stock      2018.0   \n",
              "10302            Kajütboot       NaN   Used boat,Unleaded         NaN   \n",
              "10332         Ski Nautique       NaN   Used boat,Unleaded      1999.0   \n",
              "\n",
              "          Condition  Length  Width  Depth Displacement CE Design Category  \\\n",
              "5               new    3.55   1.46    NaN        84 kg                NaN   \n",
              "23              NaN    6.00   2.20    NaN          NaN                NaN   \n",
              "24              NaN    6.00   2.20    NaN          NaN                NaN   \n",
              "32              NaN    3.55   1.46    NaN        84 kg                NaN   \n",
              "71             good    8.00   2.10    0.4     1'800 kg                NaN   \n",
              "...             ...     ...    ...    ...          ...                ...   \n",
              "10267           NaN    4.00    NaN    NaN       260 kg                NaN   \n",
              "10272          used    6.20   2.25    0.7      1000 kg                NaN   \n",
              "10299           new    5.00   2.10    NaN       350 kg                NaN   \n",
              "10302  well-groomed    4.85   1.80    NaN       580 kg                NaN   \n",
              "10332          used    5.90   2.32    NaN          NaN                NaN   \n",
              "\n",
              "       Cert Number of People  Number of Cabins  Number of beds   Hull Color  \\\n",
              "5                        4.0               NaN             NaN          NaN   \n",
              "23                       NaN               NaN             NaN          NaN   \n",
              "24                       NaN               NaN             NaN          NaN   \n",
              "32                       NaN               NaN             NaN         grey   \n",
              "71                       NaN               NaN             1.0          NaN   \n",
              "...                      ...               ...             ...          ...   \n",
              "10267                    NaN               NaN             NaN          NaN   \n",
              "10272                    6.0               1.0             1.0  white white   \n",
              "10299                   12.0               NaN             NaN          NaN   \n",
              "10302                    NaN               NaN             NaN          NaN   \n",
              "10332                    6.0               NaN             NaN          NaN   \n",
              "\n",
              "       Number of Toilets  Number of Bathrooms  Number of Showers   Material  \\\n",
              "5                    NaN                  NaN                NaN  Aluminium   \n",
              "23                   NaN                  NaN                NaN        GRP   \n",
              "24                   NaN                  NaN                NaN        GRP   \n",
              "32                   NaN                  NaN                NaN  Aluminium   \n",
              "71                   NaN                  1.0                NaN        GRP   \n",
              "...                  ...                  ...                ...        ...   \n",
              "10267                NaN                  NaN                NaN        NaN   \n",
              "10272                NaN                  NaN                NaN        GRP   \n",
              "10299                NaN                  NaN                NaN        NaN   \n",
              "10302                NaN                  NaN                NaN        GRP   \n",
              "10332                NaN                  NaN                NaN        GRP   \n",
              "\n",
              "       Fresh Water Cap  Holding Tank             Propulsion  \\\n",
              "5                  NaN           NaN                    NaN   \n",
              "23                 NaN           NaN                    NaN   \n",
              "24                 NaN           NaN                    NaN   \n",
              "32                 NaN           NaN                    NaN   \n",
              "71                70.0           NaN  Outboard, four-stroke   \n",
              "...                ...           ...                    ...   \n",
              "10267              NaN           NaN                    NaN   \n",
              "10272              NaN           NaN             Sterndrive   \n",
              "10299              NaN           NaN                    NaN   \n",
              "10302              NaN           NaN  Outboard, four-stroke   \n",
              "10332              NaN           NaN     Inboard with Shaft   \n",
              "\n",
              "                                 Engine   Engine Performance  Fuel Capacity  \\\n",
              "5                                   NaN                  NaN            NaN   \n",
              "23                                 Buck    1 x 20 HP / 15 kW           50.0   \n",
              "24                                 Buck    1 x 20 HP / 15 kW           50.0   \n",
              "32                                  NaN                  NaN            NaN   \n",
              "71                             Evinrude    1 x 30 HP / 22 kW           60.0   \n",
              "...                                 ...                  ...            ...   \n",
              "10267                               NaN                  NaN            NaN   \n",
              "10272  Volvo Penta 3 Liter AQ 170/270 T  1 x 170 HP / 125 kW          110.0   \n",
              "10299                               NaN                  NaN            NaN   \n",
              "10302                 Honda Außenborder    1 x 30 HP / 22 kW           25.0   \n",
              "10332                Pleasure Craft IBO  1 x 294 HP / 216 kW            NaN   \n",
              "\n",
              "      Fuel Type  Engine Hours Max Speed Cruising Speed  \\\n",
              "5           NaN           NaN       NaN            NaN   \n",
              "23          NaN           NaN       NaN            NaN   \n",
              "24          NaN           NaN       NaN            NaN   \n",
              "32          NaN           NaN       NaN            NaN   \n",
              "71     Unleaded           NaN       NaN            NaN   \n",
              "...         ...           ...       ...            ...   \n",
              "10267       NaN           NaN       NaN            NaN   \n",
              "10272  Unleaded         650.0       NaN            NaN   \n",
              "10299       NaN           NaN       NaN            NaN   \n",
              "10302  Unleaded           NaN       NaN            NaN   \n",
              "10332  Unleaded           NaN       NaN            NaN   \n",
              "\n",
              "                                                Location Advertisement Date  \\\n",
              "5                             Germany » Bayern » München                NaT   \n",
              "23                             Italy » Toscana » Toscana                NaT   \n",
              "24                             Italy » Toscana » Toscana                NaT   \n",
              "32            Switzerland » Vierwaldstättersee » Luzern                 NaT   \n",
              "71                             Germany » Berlin » Berlin         2020-06-15   \n",
              "...                                                  ...                ...   \n",
              "10267                                Denmark » Svendborg                NaT   \n",
              "10272  Germany » Nordrhein-Westfalen » 32547 Bad Oeyn...                NaT   \n",
              "10299                                Italy » Dormelletto                NaT   \n",
              "10302  Germany » Mecklenburg-Vorpommern » Ueckermünde...         2020-06-23   \n",
              "10332                               Switzerland » Uznach                NaT   \n",
              "\n",
              "      Number of views last 7 days  \\\n",
              "5                              58   \n",
              "23                            NaN   \n",
              "24                            NaN   \n",
              "32                            130   \n",
              "71                            289   \n",
              "...                           ...   \n",
              "10267                         126   \n",
              "10272                         154   \n",
              "10299                         156   \n",
              "10302                         303   \n",
              "10332                         NaN   \n",
              "\n",
              "                                                Comments  \\\n",
              "5                                                    NaN   \n",
              "23                                                   NaN   \n",
              "24                                                   NaN   \n",
              "32                                                   NaN   \n",
              "71     Live aboard boat,,Refit done a few years ago, ...   \n",
              "...                                                  ...   \n",
              "10267  Fritidsfiskerens favoritbåd, den har en imporn...   \n",
              "10272                                                NaN   \n",
              "10299  Caratteristiche tecniche,,Materiale: Polietile...   \n",
              "10302                                                NaN   \n",
              "10332                                                NaN   \n",
              "\n",
              "                                     Additional Comments  \\\n",
              "5      For engines up to Type 8, the environmentally ...   \n",
              "23                                                   NaN   \n",
              "24                                                   NaN   \n",
              "32     Neuboot available for immediate delivery.,For ...   \n",
              "71                                                   NaN   \n",
              "...                                                  ...   \n",
              "10267                                                NaN   \n",
              "10272  A fast day cruiser, very manoeuvrable, top cor...   \n",
              "10299                                                NaN   \n",
              "10302  For health reasons, I am selling my GRP cabin ...   \n",
              "10332          Motor defective, bowl damaged on the side   \n",
              "\n",
              "                                               Equipment  \n",
              "5                                                    NaN  \n",
              "23                                                   NaN  \n",
              "24                                                   NaN  \n",
              "32                                                   NaN  \n",
              "71     Anchor,Battery,Bilge pump,Fire Extinguisher,Fu...  \n",
              "...                                                  ...  \n",
              "10267                                                NaN  \n",
              "10272  Anchor,Battery,Bilge Pump,Cockpit Cover,Cockpi...  \n",
              "10299                                                NaN  \n",
              "10302  Anchor,Battery,Cockpit Cover,Compass,Depth Ins...  \n",
              "10332                                                NaN  \n",
              "\n",
              "[3018 rows x 38 columns]>"
            ]
          },
          "metadata": {},
          "execution_count": 140
        }
      ]
    },
    {
      "cell_type": "code",
      "source": [
        "subset_feature = ['Currency_A','Currency_B']"
      ],
      "metadata": {
        "id": "Uvp9Z0eUvry-"
      },
      "execution_count": 156,
      "outputs": []
    },
    {
      "cell_type": "code",
      "source": [
        "# Create a conversion table\n",
        "create_change = {'Currency_A': ['EUR', 'GBP', 'DKK', 'SEK', 'USD', 'CHF', 'CHF'], \n",
        "               'Currency_B': ['EUR', 'GBP', 'DKK', 'SEK', 'USD', 'CHF', 'CHF'], \n",
        "               'Change': [1, 1, 1, 1, 1, 1,2]}\n",
        "change = pd.DataFrame(data=create_change)\n",
        "change"
      ],
      "metadata": {
        "id": "1OySnL3Jvr1z",
        "outputId": "65dac37e-9692-47de-c6d6-985f091e929c",
        "colab": {
          "base_uri": "https://localhost:8080/",
          "height": 269
        }
      },
      "execution_count": 152,
      "outputs": [
        {
          "output_type": "execute_result",
          "data": {
            "text/plain": [
              "  Currency_A Currency_B  Change\n",
              "0        EUR        EUR       1\n",
              "1        GBP        GBP       1\n",
              "2        DKK        DKK       1\n",
              "3        SEK        SEK       1\n",
              "4        USD        USD       1\n",
              "5        CHF        CHF       1\n",
              "6        CHF        CHF       2"
            ],
            "text/html": [
              "\n",
              "  <div id=\"df-45a9022f-6821-4363-8eb7-78fd083f35cb\">\n",
              "    <div class=\"colab-df-container\">\n",
              "      <div>\n",
              "<style scoped>\n",
              "    .dataframe tbody tr th:only-of-type {\n",
              "        vertical-align: middle;\n",
              "    }\n",
              "\n",
              "    .dataframe tbody tr th {\n",
              "        vertical-align: top;\n",
              "    }\n",
              "\n",
              "    .dataframe thead th {\n",
              "        text-align: right;\n",
              "    }\n",
              "</style>\n",
              "<table border=\"1\" class=\"dataframe\">\n",
              "  <thead>\n",
              "    <tr style=\"text-align: right;\">\n",
              "      <th></th>\n",
              "      <th>Currency_A</th>\n",
              "      <th>Currency_B</th>\n",
              "      <th>Change</th>\n",
              "    </tr>\n",
              "  </thead>\n",
              "  <tbody>\n",
              "    <tr>\n",
              "      <th>0</th>\n",
              "      <td>EUR</td>\n",
              "      <td>EUR</td>\n",
              "      <td>1</td>\n",
              "    </tr>\n",
              "    <tr>\n",
              "      <th>1</th>\n",
              "      <td>GBP</td>\n",
              "      <td>GBP</td>\n",
              "      <td>1</td>\n",
              "    </tr>\n",
              "    <tr>\n",
              "      <th>2</th>\n",
              "      <td>DKK</td>\n",
              "      <td>DKK</td>\n",
              "      <td>1</td>\n",
              "    </tr>\n",
              "    <tr>\n",
              "      <th>3</th>\n",
              "      <td>SEK</td>\n",
              "      <td>SEK</td>\n",
              "      <td>1</td>\n",
              "    </tr>\n",
              "    <tr>\n",
              "      <th>4</th>\n",
              "      <td>USD</td>\n",
              "      <td>USD</td>\n",
              "      <td>1</td>\n",
              "    </tr>\n",
              "    <tr>\n",
              "      <th>5</th>\n",
              "      <td>CHF</td>\n",
              "      <td>CHF</td>\n",
              "      <td>1</td>\n",
              "    </tr>\n",
              "    <tr>\n",
              "      <th>6</th>\n",
              "      <td>CHF</td>\n",
              "      <td>CHF</td>\n",
              "      <td>2</td>\n",
              "    </tr>\n",
              "  </tbody>\n",
              "</table>\n",
              "</div>\n",
              "      <button class=\"colab-df-convert\" onclick=\"convertToInteractive('df-45a9022f-6821-4363-8eb7-78fd083f35cb')\"\n",
              "              title=\"Convert this dataframe to an interactive table.\"\n",
              "              style=\"display:none;\">\n",
              "        \n",
              "  <svg xmlns=\"http://www.w3.org/2000/svg\" height=\"24px\"viewBox=\"0 0 24 24\"\n",
              "       width=\"24px\">\n",
              "    <path d=\"M0 0h24v24H0V0z\" fill=\"none\"/>\n",
              "    <path d=\"M18.56 5.44l.94 2.06.94-2.06 2.06-.94-2.06-.94-.94-2.06-.94 2.06-2.06.94zm-11 1L8.5 8.5l.94-2.06 2.06-.94-2.06-.94L8.5 2.5l-.94 2.06-2.06.94zm10 10l.94 2.06.94-2.06 2.06-.94-2.06-.94-.94-2.06-.94 2.06-2.06.94z\"/><path d=\"M17.41 7.96l-1.37-1.37c-.4-.4-.92-.59-1.43-.59-.52 0-1.04.2-1.43.59L10.3 9.45l-7.72 7.72c-.78.78-.78 2.05 0 2.83L4 21.41c.39.39.9.59 1.41.59.51 0 1.02-.2 1.41-.59l7.78-7.78 2.81-2.81c.8-.78.8-2.07 0-2.86zM5.41 20L4 18.59l7.72-7.72 1.47 1.35L5.41 20z\"/>\n",
              "  </svg>\n",
              "      </button>\n",
              "      \n",
              "  <style>\n",
              "    .colab-df-container {\n",
              "      display:flex;\n",
              "      flex-wrap:wrap;\n",
              "      gap: 12px;\n",
              "    }\n",
              "\n",
              "    .colab-df-convert {\n",
              "      background-color: #E8F0FE;\n",
              "      border: none;\n",
              "      border-radius: 50%;\n",
              "      cursor: pointer;\n",
              "      display: none;\n",
              "      fill: #1967D2;\n",
              "      height: 32px;\n",
              "      padding: 0 0 0 0;\n",
              "      width: 32px;\n",
              "    }\n",
              "\n",
              "    .colab-df-convert:hover {\n",
              "      background-color: #E2EBFA;\n",
              "      box-shadow: 0px 1px 2px rgba(60, 64, 67, 0.3), 0px 1px 3px 1px rgba(60, 64, 67, 0.15);\n",
              "      fill: #174EA6;\n",
              "    }\n",
              "\n",
              "    [theme=dark] .colab-df-convert {\n",
              "      background-color: #3B4455;\n",
              "      fill: #D2E3FC;\n",
              "    }\n",
              "\n",
              "    [theme=dark] .colab-df-convert:hover {\n",
              "      background-color: #434B5C;\n",
              "      box-shadow: 0px 1px 3px 1px rgba(0, 0, 0, 0.15);\n",
              "      filter: drop-shadow(0px 1px 2px rgba(0, 0, 0, 0.3));\n",
              "      fill: #FFFFFF;\n",
              "    }\n",
              "  </style>\n",
              "\n",
              "      <script>\n",
              "        const buttonEl =\n",
              "          document.querySelector('#df-45a9022f-6821-4363-8eb7-78fd083f35cb button.colab-df-convert');\n",
              "        buttonEl.style.display =\n",
              "          google.colab.kernel.accessAllowed ? 'block' : 'none';\n",
              "\n",
              "        async function convertToInteractive(key) {\n",
              "          const element = document.querySelector('#df-45a9022f-6821-4363-8eb7-78fd083f35cb');\n",
              "          const dataTable =\n",
              "            await google.colab.kernel.invokeFunction('convertToInteractive',\n",
              "                                                     [key], {});\n",
              "          if (!dataTable) return;\n",
              "\n",
              "          const docLinkHtml = 'Like what you see? Visit the ' +\n",
              "            '<a target=\"_blank\" href=https://colab.research.google.com/notebooks/data_table.ipynb>data table notebook</a>'\n",
              "            + ' to learn more about interactive tables.';\n",
              "          element.innerHTML = '';\n",
              "          dataTable['output_type'] = 'display_data';\n",
              "          await google.colab.output.renderOutput(dataTable, element);\n",
              "          const docLink = document.createElement('div');\n",
              "          docLink.innerHTML = docLinkHtml;\n",
              "          element.appendChild(docLink);\n",
              "        }\n",
              "      </script>\n",
              "    </div>\n",
              "  </div>\n",
              "  "
            ]
          },
          "metadata": {},
          "execution_count": 152
        }
      ]
    },
    {
      "cell_type": "code",
      "source": [
        "bool_series = change.duplicated(subset =subset_feature )\n",
        "bool_series"
      ],
      "metadata": {
        "id": "XFOAO3qSvr4T",
        "outputId": "e0d96640-5139-470a-ef03-a357af434d43",
        "colab": {
          "base_uri": "https://localhost:8080/"
        }
      },
      "execution_count": 157,
      "outputs": [
        {
          "output_type": "execute_result",
          "data": {
            "text/plain": [
              "0    False\n",
              "1    False\n",
              "2    False\n",
              "3    False\n",
              "4    False\n",
              "5    False\n",
              "6     True\n",
              "dtype: bool"
            ]
          },
          "metadata": {},
          "execution_count": 157
        }
      ]
    },
    {
      "cell_type": "code",
      "source": [
        "change[~bool_series]"
      ],
      "metadata": {
        "id": "h5Fsrjgpvr6v",
        "outputId": "eb316958-089f-4446-f7c2-fb78bcb6ef7f",
        "colab": {
          "base_uri": "https://localhost:8080/",
          "height": 238
        }
      },
      "execution_count": 158,
      "outputs": [
        {
          "output_type": "execute_result",
          "data": {
            "text/plain": [
              "  Currency_A Currency_B  Change\n",
              "0        EUR        EUR       1\n",
              "1        GBP        GBP       1\n",
              "2        DKK        DKK       1\n",
              "3        SEK        SEK       1\n",
              "4        USD        USD       1\n",
              "5        CHF        CHF       1"
            ],
            "text/html": [
              "\n",
              "  <div id=\"df-26e5c876-9e3c-4651-ba8d-b0513d428afb\">\n",
              "    <div class=\"colab-df-container\">\n",
              "      <div>\n",
              "<style scoped>\n",
              "    .dataframe tbody tr th:only-of-type {\n",
              "        vertical-align: middle;\n",
              "    }\n",
              "\n",
              "    .dataframe tbody tr th {\n",
              "        vertical-align: top;\n",
              "    }\n",
              "\n",
              "    .dataframe thead th {\n",
              "        text-align: right;\n",
              "    }\n",
              "</style>\n",
              "<table border=\"1\" class=\"dataframe\">\n",
              "  <thead>\n",
              "    <tr style=\"text-align: right;\">\n",
              "      <th></th>\n",
              "      <th>Currency_A</th>\n",
              "      <th>Currency_B</th>\n",
              "      <th>Change</th>\n",
              "    </tr>\n",
              "  </thead>\n",
              "  <tbody>\n",
              "    <tr>\n",
              "      <th>0</th>\n",
              "      <td>EUR</td>\n",
              "      <td>EUR</td>\n",
              "      <td>1</td>\n",
              "    </tr>\n",
              "    <tr>\n",
              "      <th>1</th>\n",
              "      <td>GBP</td>\n",
              "      <td>GBP</td>\n",
              "      <td>1</td>\n",
              "    </tr>\n",
              "    <tr>\n",
              "      <th>2</th>\n",
              "      <td>DKK</td>\n",
              "      <td>DKK</td>\n",
              "      <td>1</td>\n",
              "    </tr>\n",
              "    <tr>\n",
              "      <th>3</th>\n",
              "      <td>SEK</td>\n",
              "      <td>SEK</td>\n",
              "      <td>1</td>\n",
              "    </tr>\n",
              "    <tr>\n",
              "      <th>4</th>\n",
              "      <td>USD</td>\n",
              "      <td>USD</td>\n",
              "      <td>1</td>\n",
              "    </tr>\n",
              "    <tr>\n",
              "      <th>5</th>\n",
              "      <td>CHF</td>\n",
              "      <td>CHF</td>\n",
              "      <td>1</td>\n",
              "    </tr>\n",
              "  </tbody>\n",
              "</table>\n",
              "</div>\n",
              "      <button class=\"colab-df-convert\" onclick=\"convertToInteractive('df-26e5c876-9e3c-4651-ba8d-b0513d428afb')\"\n",
              "              title=\"Convert this dataframe to an interactive table.\"\n",
              "              style=\"display:none;\">\n",
              "        \n",
              "  <svg xmlns=\"http://www.w3.org/2000/svg\" height=\"24px\"viewBox=\"0 0 24 24\"\n",
              "       width=\"24px\">\n",
              "    <path d=\"M0 0h24v24H0V0z\" fill=\"none\"/>\n",
              "    <path d=\"M18.56 5.44l.94 2.06.94-2.06 2.06-.94-2.06-.94-.94-2.06-.94 2.06-2.06.94zm-11 1L8.5 8.5l.94-2.06 2.06-.94-2.06-.94L8.5 2.5l-.94 2.06-2.06.94zm10 10l.94 2.06.94-2.06 2.06-.94-2.06-.94-.94-2.06-.94 2.06-2.06.94z\"/><path d=\"M17.41 7.96l-1.37-1.37c-.4-.4-.92-.59-1.43-.59-.52 0-1.04.2-1.43.59L10.3 9.45l-7.72 7.72c-.78.78-.78 2.05 0 2.83L4 21.41c.39.39.9.59 1.41.59.51 0 1.02-.2 1.41-.59l7.78-7.78 2.81-2.81c.8-.78.8-2.07 0-2.86zM5.41 20L4 18.59l7.72-7.72 1.47 1.35L5.41 20z\"/>\n",
              "  </svg>\n",
              "      </button>\n",
              "      \n",
              "  <style>\n",
              "    .colab-df-container {\n",
              "      display:flex;\n",
              "      flex-wrap:wrap;\n",
              "      gap: 12px;\n",
              "    }\n",
              "\n",
              "    .colab-df-convert {\n",
              "      background-color: #E8F0FE;\n",
              "      border: none;\n",
              "      border-radius: 50%;\n",
              "      cursor: pointer;\n",
              "      display: none;\n",
              "      fill: #1967D2;\n",
              "      height: 32px;\n",
              "      padding: 0 0 0 0;\n",
              "      width: 32px;\n",
              "    }\n",
              "\n",
              "    .colab-df-convert:hover {\n",
              "      background-color: #E2EBFA;\n",
              "      box-shadow: 0px 1px 2px rgba(60, 64, 67, 0.3), 0px 1px 3px 1px rgba(60, 64, 67, 0.15);\n",
              "      fill: #174EA6;\n",
              "    }\n",
              "\n",
              "    [theme=dark] .colab-df-convert {\n",
              "      background-color: #3B4455;\n",
              "      fill: #D2E3FC;\n",
              "    }\n",
              "\n",
              "    [theme=dark] .colab-df-convert:hover {\n",
              "      background-color: #434B5C;\n",
              "      box-shadow: 0px 1px 3px 1px rgba(0, 0, 0, 0.15);\n",
              "      filter: drop-shadow(0px 1px 2px rgba(0, 0, 0, 0.3));\n",
              "      fill: #FFFFFF;\n",
              "    }\n",
              "  </style>\n",
              "\n",
              "      <script>\n",
              "        const buttonEl =\n",
              "          document.querySelector('#df-26e5c876-9e3c-4651-ba8d-b0513d428afb button.colab-df-convert');\n",
              "        buttonEl.style.display =\n",
              "          google.colab.kernel.accessAllowed ? 'block' : 'none';\n",
              "\n",
              "        async function convertToInteractive(key) {\n",
              "          const element = document.querySelector('#df-26e5c876-9e3c-4651-ba8d-b0513d428afb');\n",
              "          const dataTable =\n",
              "            await google.colab.kernel.invokeFunction('convertToInteractive',\n",
              "                                                     [key], {});\n",
              "          if (!dataTable) return;\n",
              "\n",
              "          const docLinkHtml = 'Like what you see? Visit the ' +\n",
              "            '<a target=\"_blank\" href=https://colab.research.google.com/notebooks/data_table.ipynb>data table notebook</a>'\n",
              "            + ' to learn more about interactive tables.';\n",
              "          element.innerHTML = '';\n",
              "          dataTable['output_type'] = 'display_data';\n",
              "          await google.colab.output.renderOutput(dataTable, element);\n",
              "          const docLink = document.createElement('div');\n",
              "          docLink.innerHTML = docLinkHtml;\n",
              "          element.appendChild(docLink);\n",
              "        }\n",
              "      </script>\n",
              "    </div>\n",
              "  </div>\n",
              "  "
            ]
          },
          "metadata": {},
          "execution_count": 158
        }
      ]
    },
    {
      "cell_type": "code",
      "source": [
        "change.groupby(by = ['Currency_A'])['Change'].mean()"
      ],
      "metadata": {
        "id": "k8DpnzNKxSwD",
        "outputId": "3209c191-1429-4eee-849f-64a382302d61",
        "colab": {
          "base_uri": "https://localhost:8080/"
        }
      },
      "execution_count": 165,
      "outputs": [
        {
          "output_type": "execute_result",
          "data": {
            "text/plain": [
              "Currency_A\n",
              "CHF    1.5\n",
              "DKK    1.0\n",
              "EUR    1.0\n",
              "GBP    1.0\n",
              "SEK    1.0\n",
              "USD    1.0\n",
              "Name: Change, dtype: float64"
            ]
          },
          "metadata": {},
          "execution_count": 165
        }
      ]
    },
    {
      "cell_type": "code",
      "source": [
        "change.drop_duplicates(subset =subset_feature, keep='first')"
      ],
      "metadata": {
        "id": "gBzLjq5SyG13",
        "outputId": "4267c967-72d6-4ce5-91c1-7e0c77647573",
        "colab": {
          "base_uri": "https://localhost:8080/",
          "height": 238
        }
      },
      "execution_count": 171,
      "outputs": [
        {
          "output_type": "execute_result",
          "data": {
            "text/plain": [
              "  Currency_A Currency_B  Change\n",
              "0        EUR        EUR       1\n",
              "1        GBP        GBP       1\n",
              "2        DKK        DKK       1\n",
              "3        SEK        SEK       1\n",
              "4        USD        USD       1\n",
              "5        CHF        CHF       1"
            ],
            "text/html": [
              "\n",
              "  <div id=\"df-1f170d24-d588-422a-9f6c-dcfd2b82a9fc\">\n",
              "    <div class=\"colab-df-container\">\n",
              "      <div>\n",
              "<style scoped>\n",
              "    .dataframe tbody tr th:only-of-type {\n",
              "        vertical-align: middle;\n",
              "    }\n",
              "\n",
              "    .dataframe tbody tr th {\n",
              "        vertical-align: top;\n",
              "    }\n",
              "\n",
              "    .dataframe thead th {\n",
              "        text-align: right;\n",
              "    }\n",
              "</style>\n",
              "<table border=\"1\" class=\"dataframe\">\n",
              "  <thead>\n",
              "    <tr style=\"text-align: right;\">\n",
              "      <th></th>\n",
              "      <th>Currency_A</th>\n",
              "      <th>Currency_B</th>\n",
              "      <th>Change</th>\n",
              "    </tr>\n",
              "  </thead>\n",
              "  <tbody>\n",
              "    <tr>\n",
              "      <th>0</th>\n",
              "      <td>EUR</td>\n",
              "      <td>EUR</td>\n",
              "      <td>1</td>\n",
              "    </tr>\n",
              "    <tr>\n",
              "      <th>1</th>\n",
              "      <td>GBP</td>\n",
              "      <td>GBP</td>\n",
              "      <td>1</td>\n",
              "    </tr>\n",
              "    <tr>\n",
              "      <th>2</th>\n",
              "      <td>DKK</td>\n",
              "      <td>DKK</td>\n",
              "      <td>1</td>\n",
              "    </tr>\n",
              "    <tr>\n",
              "      <th>3</th>\n",
              "      <td>SEK</td>\n",
              "      <td>SEK</td>\n",
              "      <td>1</td>\n",
              "    </tr>\n",
              "    <tr>\n",
              "      <th>4</th>\n",
              "      <td>USD</td>\n",
              "      <td>USD</td>\n",
              "      <td>1</td>\n",
              "    </tr>\n",
              "    <tr>\n",
              "      <th>5</th>\n",
              "      <td>CHF</td>\n",
              "      <td>CHF</td>\n",
              "      <td>1</td>\n",
              "    </tr>\n",
              "  </tbody>\n",
              "</table>\n",
              "</div>\n",
              "      <button class=\"colab-df-convert\" onclick=\"convertToInteractive('df-1f170d24-d588-422a-9f6c-dcfd2b82a9fc')\"\n",
              "              title=\"Convert this dataframe to an interactive table.\"\n",
              "              style=\"display:none;\">\n",
              "        \n",
              "  <svg xmlns=\"http://www.w3.org/2000/svg\" height=\"24px\"viewBox=\"0 0 24 24\"\n",
              "       width=\"24px\">\n",
              "    <path d=\"M0 0h24v24H0V0z\" fill=\"none\"/>\n",
              "    <path d=\"M18.56 5.44l.94 2.06.94-2.06 2.06-.94-2.06-.94-.94-2.06-.94 2.06-2.06.94zm-11 1L8.5 8.5l.94-2.06 2.06-.94-2.06-.94L8.5 2.5l-.94 2.06-2.06.94zm10 10l.94 2.06.94-2.06 2.06-.94-2.06-.94-.94-2.06-.94 2.06-2.06.94z\"/><path d=\"M17.41 7.96l-1.37-1.37c-.4-.4-.92-.59-1.43-.59-.52 0-1.04.2-1.43.59L10.3 9.45l-7.72 7.72c-.78.78-.78 2.05 0 2.83L4 21.41c.39.39.9.59 1.41.59.51 0 1.02-.2 1.41-.59l7.78-7.78 2.81-2.81c.8-.78.8-2.07 0-2.86zM5.41 20L4 18.59l7.72-7.72 1.47 1.35L5.41 20z\"/>\n",
              "  </svg>\n",
              "      </button>\n",
              "      \n",
              "  <style>\n",
              "    .colab-df-container {\n",
              "      display:flex;\n",
              "      flex-wrap:wrap;\n",
              "      gap: 12px;\n",
              "    }\n",
              "\n",
              "    .colab-df-convert {\n",
              "      background-color: #E8F0FE;\n",
              "      border: none;\n",
              "      border-radius: 50%;\n",
              "      cursor: pointer;\n",
              "      display: none;\n",
              "      fill: #1967D2;\n",
              "      height: 32px;\n",
              "      padding: 0 0 0 0;\n",
              "      width: 32px;\n",
              "    }\n",
              "\n",
              "    .colab-df-convert:hover {\n",
              "      background-color: #E2EBFA;\n",
              "      box-shadow: 0px 1px 2px rgba(60, 64, 67, 0.3), 0px 1px 3px 1px rgba(60, 64, 67, 0.15);\n",
              "      fill: #174EA6;\n",
              "    }\n",
              "\n",
              "    [theme=dark] .colab-df-convert {\n",
              "      background-color: #3B4455;\n",
              "      fill: #D2E3FC;\n",
              "    }\n",
              "\n",
              "    [theme=dark] .colab-df-convert:hover {\n",
              "      background-color: #434B5C;\n",
              "      box-shadow: 0px 1px 3px 1px rgba(0, 0, 0, 0.15);\n",
              "      filter: drop-shadow(0px 1px 2px rgba(0, 0, 0, 0.3));\n",
              "      fill: #FFFFFF;\n",
              "    }\n",
              "  </style>\n",
              "\n",
              "      <script>\n",
              "        const buttonEl =\n",
              "          document.querySelector('#df-1f170d24-d588-422a-9f6c-dcfd2b82a9fc button.colab-df-convert');\n",
              "        buttonEl.style.display =\n",
              "          google.colab.kernel.accessAllowed ? 'block' : 'none';\n",
              "\n",
              "        async function convertToInteractive(key) {\n",
              "          const element = document.querySelector('#df-1f170d24-d588-422a-9f6c-dcfd2b82a9fc');\n",
              "          const dataTable =\n",
              "            await google.colab.kernel.invokeFunction('convertToInteractive',\n",
              "                                                     [key], {});\n",
              "          if (!dataTable) return;\n",
              "\n",
              "          const docLinkHtml = 'Like what you see? Visit the ' +\n",
              "            '<a target=\"_blank\" href=https://colab.research.google.com/notebooks/data_table.ipynb>data table notebook</a>'\n",
              "            + ' to learn more about interactive tables.';\n",
              "          element.innerHTML = '';\n",
              "          dataTable['output_type'] = 'display_data';\n",
              "          await google.colab.output.renderOutput(dataTable, element);\n",
              "          const docLink = document.createElement('div');\n",
              "          docLink.innerHTML = docLinkHtml;\n",
              "          element.appendChild(docLink);\n",
              "        }\n",
              "      </script>\n",
              "    </div>\n",
              "  </div>\n",
              "  "
            ]
          },
          "metadata": {},
          "execution_count": 171
        }
      ]
    }
  ]
}