{
  "nbformat": 4,
  "nbformat_minor": 0,
  "metadata": {
    "colab": {
      "name": "Untitled6.ipynb",
      "provenance": [],
      "authorship_tag": "ABX9TyMrXavfPAMSDYRKuvR1BPC1",
      "include_colab_link": true
    },
    "kernelspec": {
      "name": "python3",
      "display_name": "Python 3"
    },
    "language_info": {
      "name": "python"
    }
  },
  "cells": [
    {
      "cell_type": "markdown",
      "metadata": {
        "id": "view-in-github",
        "colab_type": "text"
      },
      "source": [
        "<a href=\"https://colab.research.google.com/github/AlejandroLopezDS/Course-2/blob/main/Week3.ipynb\" target=\"_parent\"><img src=\"https://colab.research.google.com/assets/colab-badge.svg\" alt=\"Open In Colab\"/></a>"
      ]
    },
    {
      "cell_type": "code",
      "execution_count": 1,
      "metadata": {
        "colab": {
          "resources": {
            "http://localhost:8080/nbextensions/google.colab/files.js": {
              "data": "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",
              "ok": true,
              "headers": [
                [
                  "content-type",
                  "application/javascript"
                ]
              ],
              "status": 200,
              "status_text": ""
            }
          },
          "base_uri": "https://localhost:8080/",
          "height": 160
        },
        "id": "GI2XfCcuRx1p",
        "outputId": "947767c1-29c2-49c2-80c6-77b9ce1b8f72"
      },
      "outputs": [
        {
          "output_type": "display_data",
          "data": {
            "text/plain": [
              "<IPython.core.display.HTML object>"
            ],
            "text/html": [
              "\n",
              "     <input type=\"file\" id=\"files-dc7fe32e-8ff3-4bcc-8c6b-0b65bed8377a\" name=\"files[]\" multiple disabled\n",
              "        style=\"border:none\" />\n",
              "     <output id=\"result-dc7fe32e-8ff3-4bcc-8c6b-0b65bed8377a\">\n",
              "      Upload widget is only available when the cell has been executed in the\n",
              "      current browser session. Please rerun this cell to enable.\n",
              "      </output>\n",
              "      <script src=\"/nbextensions/google.colab/files.js\"></script> "
            ]
          },
          "metadata": {}
        },
        {
          "output_type": "stream",
          "name": "stdout",
          "text": [
            "Saving kaggle.json to kaggle.json\n",
            "Downloading large-boatyacht-pricing-dataset.zip to /content\n",
            "  0% 0.00/6.22M [00:00<?, ?B/s]\n",
            "100% 6.22M/6.22M [00:00<00:00, 264MB/s]\n",
            "Archive:  large-boatyacht-pricing-dataset.zip\n",
            "  inflating: boat_dataset.csv        \n"
          ]
        }
      ],
      "source": [
        "!pip install -q kaggle\n",
        "from google.colab import files\n",
        "files.upload()\n",
        "#create a kaggle folder\n",
        "!mkdir ~/.kaggle\n",
        "# Go on kaggle > Account > Create New API token\n",
        "# Save the json file in your laptop in a dedicated folder\n",
        "# copy the kaggle.json to folder created\n",
        "!cp kaggle.json ~/.kaggle\n",
        "#permission for the json to act\n",
        "!chmod 600 ~/.kaggle/kaggle.json\n",
        "# Datasets available here: \n",
        "# https://www.kaggle.com/uciml/red-wine-quality-cortez-et-al-2009\n",
        "!kaggle datasets download -d artemkorottchenko/large-boatyacht-pricing-dataset\n",
        "!unzip large-boatyacht-pricing-dataset.zip"
      ]
    },
    {
      "cell_type": "code",
      "source": [
        "import pandas as pd\n",
        "import io\n",
        "import numpy as np\n",
        "pd.options.display.max_columns = 100\n",
        "pd.options.display.max_rows = 60\n",
        "\n",
        "df = pd.read_csv(io.StringIO(open('/content/boat_dataset.csv', 'rb').read().decode('utf-8', errors='ignore')), sep=\",\")\n",
        "\n"
      ],
      "metadata": {
        "id": "On7Q__-uSO6X"
      },
      "execution_count": 137,
      "outputs": []
    },
    {
      "cell_type": "code",
      "source": [
        "df.dtypes"
      ],
      "metadata": {
        "colab": {
          "base_uri": "https://localhost:8080/"
        },
        "id": "2s3aXIQuSPPV",
        "outputId": "1f8dd63a-fea1-452d-ce40-e61561abd5b0"
      },
      "execution_count": 15,
      "outputs": [
        {
          "output_type": "execute_result",
          "data": {
            "text/plain": [
              "Price                           object\n",
              "Category                        object\n",
              "Boat Type                       object\n",
              "Manufacturer                    object\n",
              "Model                           object\n",
              "Boat name                       object\n",
              "Type                            object\n",
              "Year Built                     float64\n",
              "Condition                       object\n",
              "Length                          object\n",
              "Width                           object\n",
              "Depth                           object\n",
              "Displacement                    object\n",
              "CE Design Category              object\n",
              "Cert Number of People          float64\n",
              "Number of Cabins               float64\n",
              "Number of beds                 float64\n",
              "Hull Color                      object\n",
              "Number of Toilets              float64\n",
              "Number of Bathrooms            float64\n",
              "Number of Showers              float64\n",
              "Material                        object\n",
              "Fresh Water Cap                 object\n",
              "Holding Tank                    object\n",
              "Propulsion                      object\n",
              "Engine                          object\n",
              "Engine Performance              object\n",
              "Fuel Capacity                   object\n",
              "Fuel Type                       object\n",
              "Engine Hours                    object\n",
              "Max Speed                       object\n",
              "Cruising Speed                  object\n",
              "Location                        object\n",
              "Advertisement Date              object\n",
              "Number of views last 7 days     object\n",
              "Comments                        object\n",
              "Additional Comments             object\n",
              "Equipment                       object\n",
              "dtype: object"
            ]
          },
          "metadata": {},
          "execution_count": 15
        }
      ]
    },
    {
      "cell_type": "code",
      "source": [
        "df.describe(include = 'all')"
      ],
      "metadata": {
        "colab": {
          "base_uri": "https://localhost:8080/",
          "height": 597
        },
        "id": "k6V8CLiTSPSk",
        "outputId": "e8e29e56-997e-4440-b846-74d84dfefbdb"
      },
      "execution_count": 18,
      "outputs": [
        {
          "output_type": "execute_result",
          "data": {
            "text/plain": [
              "               Price     Category    Boat Type          Manufacturer  \\\n",
              "count          10344        10344        10344                  8954   \n",
              "unique          3283            1          135                   932   \n",
              "top     EUR 65.000,-  Power Boats  Motor Yacht  Bénéteau power boats   \n",
              "freq              81        10344         2839                   663   \n",
              "mean             NaN          NaN          NaN                   NaN   \n",
              "std              NaN          NaN          NaN                   NaN   \n",
              "min              NaN          NaN          NaN                   NaN   \n",
              "25%              NaN          NaN          NaN                   NaN   \n",
              "50%              NaN          NaN          NaN                   NaN   \n",
              "75%              NaN          NaN          NaN                   NaN   \n",
              "max              NaN          NaN          NaN                   NaN   \n",
              "\n",
              "              Model Boat name              Type   Year Built  Condition  \\\n",
              "count         10341      1313             10339  9777.000000       3375   \n",
              "unique         7458      1258                36          NaN         10   \n",
              "top     BARRACUDA 8    Maxima  Used boat,Diesel          NaN  very good   \n",
              "freq             23        15              4197          NaN       1158   \n",
              "mean            NaN       NaN               NaN  2004.830725        NaN   \n",
              "std             NaN       NaN               NaN    16.309045        NaN   \n",
              "min             NaN       NaN               NaN  1885.000000        NaN   \n",
              "25%             NaN       NaN               NaN  1999.000000        NaN   \n",
              "50%             NaN       NaN               NaN  2008.000000        NaN   \n",
              "75%             NaN       NaN               NaN  2017.000000        NaN   \n",
              "max             NaN       NaN               NaN  2021.000000        NaN   \n",
              "\n",
              "        Length   Width   Depth Displacement CE Design Category  \\\n",
              "count    10334   10281    7234         5051                782   \n",
              "unique    1628     580     264         1380                  4   \n",
              "top     9.00 m  2.50 m  0.90 m     12000 kg        C - Inshore   \n",
              "freq       113     369     582           50                402   \n",
              "mean       NaN     NaN     NaN          NaN                NaN   \n",
              "std        NaN     NaN     NaN          NaN                NaN   \n",
              "min        NaN     NaN     NaN          NaN                NaN   \n",
              "25%        NaN     NaN     NaN          NaN                NaN   \n",
              "50%        NaN     NaN     NaN          NaN                NaN   \n",
              "75%        NaN     NaN     NaN          NaN                NaN   \n",
              "max        NaN     NaN     NaN          NaN                NaN   \n",
              "\n",
              "        Cert Number of People  Number of Cabins  Number of beds   Hull Color  \\\n",
              "count             3597.000000       6475.000000     6407.000000         3311   \n",
              "unique                    NaN               NaN             NaN          377   \n",
              "top                       NaN               NaN             NaN  white white   \n",
              "freq                      NaN               NaN             NaN          853   \n",
              "mean                 9.355296          2.149035        4.345716          NaN   \n",
              "std                 24.037107          2.145005        3.974223          NaN   \n",
              "min                  1.000000         -1.000000      -23.000000          NaN   \n",
              "25%                  7.000000          1.000000        2.000000          NaN   \n",
              "50%                  8.000000          2.000000        4.000000          NaN   \n",
              "75%                 10.000000          3.000000        6.000000          NaN   \n",
              "max               1200.000000         96.000000      266.000000          NaN   \n",
              "\n",
              "        Number of Toilets  Number of Bathrooms  Number of Showers Material  \\\n",
              "count         2156.000000           463.000000        1941.000000     8512   \n",
              "unique                NaN                  NaN                NaN       11   \n",
              "top                   NaN                  NaN                NaN      GRP   \n",
              "freq                  NaN                  NaN                NaN     5754   \n",
              "mean             1.763915             1.289417           1.550747      NaN   \n",
              "std              2.076365             0.653360           0.930096      NaN   \n",
              "min              1.000000             1.000000           1.000000      NaN   \n",
              "25%              1.000000             1.000000           1.000000      NaN   \n",
              "50%              1.000000             1.000000           1.000000      NaN   \n",
              "75%              2.000000             1.000000           2.000000      NaN   \n",
              "max             84.000000             6.000000          10.000000      NaN   \n",
              "\n",
              "       Fresh Water Cap Holding Tank          Propulsion       Engine  \\\n",
              "count             2118          819                3291         9535   \n",
              "unique             287          104                   8         4752   \n",
              "top              100 l        100 l  Inboard with Shaft  Volvo Penta   \n",
              "freq               122           82                1188          375   \n",
              "mean               NaN          NaN                 NaN          NaN   \n",
              "std                NaN          NaN                 NaN          NaN   \n",
              "min                NaN          NaN                 NaN          NaN   \n",
              "25%                NaN          NaN                 NaN          NaN   \n",
              "50%                NaN          NaN                 NaN          NaN   \n",
              "75%                NaN          NaN                 NaN          NaN   \n",
              "max                NaN          NaN                 NaN          NaN   \n",
              "\n",
              "         Engine Performance Fuel Capacity Fuel Type Engine Hours Max Speed  \\\n",
              "count                  8063          6814      8022         5133       892   \n",
              "unique                  843           716         6          996        99   \n",
              "top     1 x 200 HP / 147 kW         400 l    Diesel        500 h  30 knots   \n",
              "freq                    305           231      4748          112       114   \n",
              "mean                    NaN           NaN       NaN          NaN       NaN   \n",
              "std                     NaN           NaN       NaN          NaN       NaN   \n",
              "min                     NaN           NaN       NaN          NaN       NaN   \n",
              "25%                     NaN           NaN       NaN          NaN       NaN   \n",
              "50%                     NaN           NaN       NaN          NaN       NaN   \n",
              "75%                     NaN           NaN       NaN          NaN       NaN   \n",
              "max                     NaN           NaN       NaN          NaN       NaN   \n",
              "\n",
              "       Cruising Speed                       Location Advertisement Date  \\\n",
              "count             547                          10301                870   \n",
              "unique             57                           3177                101   \n",
              "top          25 knots  Netherlands » In verkoophaven         14.07.2020   \n",
              "freq               70                            332                 33   \n",
              "mean              NaN                            NaN                NaN   \n",
              "std               NaN                            NaN                NaN   \n",
              "min               NaN                            NaN                NaN   \n",
              "25%               NaN                            NaN                NaN   \n",
              "50%               NaN                            NaN                NaN   \n",
              "75%               NaN                            NaN                NaN   \n",
              "max               NaN                            NaN                NaN   \n",
              "\n",
              "       Number of views last 7 days  \\\n",
              "count                         9981   \n",
              "unique                         680   \n",
              "top                             68   \n",
              "freq                            91   \n",
              "mean                           NaN   \n",
              "std                            NaN   \n",
              "min                            NaN   \n",
              "25%                            NaN   \n",
              "50%                            NaN   \n",
              "75%                            NaN   \n",
              "max                            NaN   \n",
              "\n",
              "                                                 Comments  \\\n",
              "count                                                7078   \n",
              "unique                                               6631   \n",
              "top     Wir sprechen Deutsch. Vermittlungsprovision ni...   \n",
              "freq                                                  128   \n",
              "mean                                                  NaN   \n",
              "std                                                   NaN   \n",
              "min                                                   NaN   \n",
              "25%                                                   NaN   \n",
              "50%                                                   NaN   \n",
              "75%                                                   NaN   \n",
              "max                                                   NaN   \n",
              "\n",
              "                                      Additional Comments Equipment  \n",
              "count                                                2454      6174  \n",
              "unique                                               2410      5301  \n",
              "top     Ex-works price,Not included:,- Motor,- Options...   Battery  \n",
              "freq                                                   11        54  \n",
              "mean                                                  NaN       NaN  \n",
              "std                                                   NaN       NaN  \n",
              "min                                                   NaN       NaN  \n",
              "25%                                                   NaN       NaN  \n",
              "50%                                                   NaN       NaN  \n",
              "75%                                                   NaN       NaN  \n",
              "max                                                   NaN       NaN  "
            ],
            "text/html": [
              "\n",
              "  <div id=\"df-94755bb1-77e3-4aab-99be-8b2201c694e0\">\n",
              "    <div class=\"colab-df-container\">\n",
              "      <div>\n",
              "<style scoped>\n",
              "    .dataframe tbody tr th:only-of-type {\n",
              "        vertical-align: middle;\n",
              "    }\n",
              "\n",
              "    .dataframe tbody tr th {\n",
              "        vertical-align: top;\n",
              "    }\n",
              "\n",
              "    .dataframe thead th {\n",
              "        text-align: right;\n",
              "    }\n",
              "</style>\n",
              "<table border=\"1\" class=\"dataframe\">\n",
              "  <thead>\n",
              "    <tr style=\"text-align: right;\">\n",
              "      <th></th>\n",
              "      <th>Price</th>\n",
              "      <th>Category</th>\n",
              "      <th>Boat Type</th>\n",
              "      <th>Manufacturer</th>\n",
              "      <th>Model</th>\n",
              "      <th>Boat name</th>\n",
              "      <th>Type</th>\n",
              "      <th>Year Built</th>\n",
              "      <th>Condition</th>\n",
              "      <th>Length</th>\n",
              "      <th>Width</th>\n",
              "      <th>Depth</th>\n",
              "      <th>Displacement</th>\n",
              "      <th>CE Design Category</th>\n",
              "      <th>Cert Number of People</th>\n",
              "      <th>Number of Cabins</th>\n",
              "      <th>Number of beds</th>\n",
              "      <th>Hull Color</th>\n",
              "      <th>Number of Toilets</th>\n",
              "      <th>Number of Bathrooms</th>\n",
              "      <th>Number of Showers</th>\n",
              "      <th>Material</th>\n",
              "      <th>Fresh Water Cap</th>\n",
              "      <th>Holding Tank</th>\n",
              "      <th>Propulsion</th>\n",
              "      <th>Engine</th>\n",
              "      <th>Engine Performance</th>\n",
              "      <th>Fuel Capacity</th>\n",
              "      <th>Fuel Type</th>\n",
              "      <th>Engine Hours</th>\n",
              "      <th>Max Speed</th>\n",
              "      <th>Cruising Speed</th>\n",
              "      <th>Location</th>\n",
              "      <th>Advertisement Date</th>\n",
              "      <th>Number of views last 7 days</th>\n",
              "      <th>Comments</th>\n",
              "      <th>Additional Comments</th>\n",
              "      <th>Equipment</th>\n",
              "    </tr>\n",
              "  </thead>\n",
              "  <tbody>\n",
              "    <tr>\n",
              "      <th>count</th>\n",
              "      <td>10344</td>\n",
              "      <td>10344</td>\n",
              "      <td>10344</td>\n",
              "      <td>8954</td>\n",
              "      <td>10341</td>\n",
              "      <td>1313</td>\n",
              "      <td>10339</td>\n",
              "      <td>9777.000000</td>\n",
              "      <td>3375</td>\n",
              "      <td>10334</td>\n",
              "      <td>10281</td>\n",
              "      <td>7234</td>\n",
              "      <td>5051</td>\n",
              "      <td>782</td>\n",
              "      <td>3597.000000</td>\n",
              "      <td>6475.000000</td>\n",
              "      <td>6407.000000</td>\n",
              "      <td>3311</td>\n",
              "      <td>2156.000000</td>\n",
              "      <td>463.000000</td>\n",
              "      <td>1941.000000</td>\n",
              "      <td>8512</td>\n",
              "      <td>2118</td>\n",
              "      <td>819</td>\n",
              "      <td>3291</td>\n",
              "      <td>9535</td>\n",
              "      <td>8063</td>\n",
              "      <td>6814</td>\n",
              "      <td>8022</td>\n",
              "      <td>5133</td>\n",
              "      <td>892</td>\n",
              "      <td>547</td>\n",
              "      <td>10301</td>\n",
              "      <td>870</td>\n",
              "      <td>9981</td>\n",
              "      <td>7078</td>\n",
              "      <td>2454</td>\n",
              "      <td>6174</td>\n",
              "    </tr>\n",
              "    <tr>\n",
              "      <th>unique</th>\n",
              "      <td>3283</td>\n",
              "      <td>1</td>\n",
              "      <td>135</td>\n",
              "      <td>932</td>\n",
              "      <td>7458</td>\n",
              "      <td>1258</td>\n",
              "      <td>36</td>\n",
              "      <td>NaN</td>\n",
              "      <td>10</td>\n",
              "      <td>1628</td>\n",
              "      <td>580</td>\n",
              "      <td>264</td>\n",
              "      <td>1380</td>\n",
              "      <td>4</td>\n",
              "      <td>NaN</td>\n",
              "      <td>NaN</td>\n",
              "      <td>NaN</td>\n",
              "      <td>377</td>\n",
              "      <td>NaN</td>\n",
              "      <td>NaN</td>\n",
              "      <td>NaN</td>\n",
              "      <td>11</td>\n",
              "      <td>287</td>\n",
              "      <td>104</td>\n",
              "      <td>8</td>\n",
              "      <td>4752</td>\n",
              "      <td>843</td>\n",
              "      <td>716</td>\n",
              "      <td>6</td>\n",
              "      <td>996</td>\n",
              "      <td>99</td>\n",
              "      <td>57</td>\n",
              "      <td>3177</td>\n",
              "      <td>101</td>\n",
              "      <td>680</td>\n",
              "      <td>6631</td>\n",
              "      <td>2410</td>\n",
              "      <td>5301</td>\n",
              "    </tr>\n",
              "    <tr>\n",
              "      <th>top</th>\n",
              "      <td>EUR 65.000,-</td>\n",
              "      <td>Power Boats</td>\n",
              "      <td>Motor Yacht</td>\n",
              "      <td>Bénéteau power boats</td>\n",
              "      <td>BARRACUDA 8</td>\n",
              "      <td>Maxima</td>\n",
              "      <td>Used boat,Diesel</td>\n",
              "      <td>NaN</td>\n",
              "      <td>very good</td>\n",
              "      <td>9.00 m</td>\n",
              "      <td>2.50 m</td>\n",
              "      <td>0.90 m</td>\n",
              "      <td>12000 kg</td>\n",
              "      <td>C - Inshore</td>\n",
              "      <td>NaN</td>\n",
              "      <td>NaN</td>\n",
              "      <td>NaN</td>\n",
              "      <td>white white</td>\n",
              "      <td>NaN</td>\n",
              "      <td>NaN</td>\n",
              "      <td>NaN</td>\n",
              "      <td>GRP</td>\n",
              "      <td>100 l</td>\n",
              "      <td>100 l</td>\n",
              "      <td>Inboard with Shaft</td>\n",
              "      <td>Volvo Penta</td>\n",
              "      <td>1 x 200 HP / 147 kW</td>\n",
              "      <td>400 l</td>\n",
              "      <td>Diesel</td>\n",
              "      <td>500 h</td>\n",
              "      <td>30 knots</td>\n",
              "      <td>25 knots</td>\n",
              "      <td>Netherlands » In verkoophaven</td>\n",
              "      <td>14.07.2020</td>\n",
              "      <td>68</td>\n",
              "      <td>Wir sprechen Deutsch. Vermittlungsprovision ni...</td>\n",
              "      <td>Ex-works price,Not included:,- Motor,- Options...</td>\n",
              "      <td>Battery</td>\n",
              "    </tr>\n",
              "    <tr>\n",
              "      <th>freq</th>\n",
              "      <td>81</td>\n",
              "      <td>10344</td>\n",
              "      <td>2839</td>\n",
              "      <td>663</td>\n",
              "      <td>23</td>\n",
              "      <td>15</td>\n",
              "      <td>4197</td>\n",
              "      <td>NaN</td>\n",
              "      <td>1158</td>\n",
              "      <td>113</td>\n",
              "      <td>369</td>\n",
              "      <td>582</td>\n",
              "      <td>50</td>\n",
              "      <td>402</td>\n",
              "      <td>NaN</td>\n",
              "      <td>NaN</td>\n",
              "      <td>NaN</td>\n",
              "      <td>853</td>\n",
              "      <td>NaN</td>\n",
              "      <td>NaN</td>\n",
              "      <td>NaN</td>\n",
              "      <td>5754</td>\n",
              "      <td>122</td>\n",
              "      <td>82</td>\n",
              "      <td>1188</td>\n",
              "      <td>375</td>\n",
              "      <td>305</td>\n",
              "      <td>231</td>\n",
              "      <td>4748</td>\n",
              "      <td>112</td>\n",
              "      <td>114</td>\n",
              "      <td>70</td>\n",
              "      <td>332</td>\n",
              "      <td>33</td>\n",
              "      <td>91</td>\n",
              "      <td>128</td>\n",
              "      <td>11</td>\n",
              "      <td>54</td>\n",
              "    </tr>\n",
              "    <tr>\n",
              "      <th>mean</th>\n",
              "      <td>NaN</td>\n",
              "      <td>NaN</td>\n",
              "      <td>NaN</td>\n",
              "      <td>NaN</td>\n",
              "      <td>NaN</td>\n",
              "      <td>NaN</td>\n",
              "      <td>NaN</td>\n",
              "      <td>2004.830725</td>\n",
              "      <td>NaN</td>\n",
              "      <td>NaN</td>\n",
              "      <td>NaN</td>\n",
              "      <td>NaN</td>\n",
              "      <td>NaN</td>\n",
              "      <td>NaN</td>\n",
              "      <td>9.355296</td>\n",
              "      <td>2.149035</td>\n",
              "      <td>4.345716</td>\n",
              "      <td>NaN</td>\n",
              "      <td>1.763915</td>\n",
              "      <td>1.289417</td>\n",
              "      <td>1.550747</td>\n",
              "      <td>NaN</td>\n",
              "      <td>NaN</td>\n",
              "      <td>NaN</td>\n",
              "      <td>NaN</td>\n",
              "      <td>NaN</td>\n",
              "      <td>NaN</td>\n",
              "      <td>NaN</td>\n",
              "      <td>NaN</td>\n",
              "      <td>NaN</td>\n",
              "      <td>NaN</td>\n",
              "      <td>NaN</td>\n",
              "      <td>NaN</td>\n",
              "      <td>NaN</td>\n",
              "      <td>NaN</td>\n",
              "      <td>NaN</td>\n",
              "      <td>NaN</td>\n",
              "      <td>NaN</td>\n",
              "    </tr>\n",
              "    <tr>\n",
              "      <th>std</th>\n",
              "      <td>NaN</td>\n",
              "      <td>NaN</td>\n",
              "      <td>NaN</td>\n",
              "      <td>NaN</td>\n",
              "      <td>NaN</td>\n",
              "      <td>NaN</td>\n",
              "      <td>NaN</td>\n",
              "      <td>16.309045</td>\n",
              "      <td>NaN</td>\n",
              "      <td>NaN</td>\n",
              "      <td>NaN</td>\n",
              "      <td>NaN</td>\n",
              "      <td>NaN</td>\n",
              "      <td>NaN</td>\n",
              "      <td>24.037107</td>\n",
              "      <td>2.145005</td>\n",
              "      <td>3.974223</td>\n",
              "      <td>NaN</td>\n",
              "      <td>2.076365</td>\n",
              "      <td>0.653360</td>\n",
              "      <td>0.930096</td>\n",
              "      <td>NaN</td>\n",
              "      <td>NaN</td>\n",
              "      <td>NaN</td>\n",
              "      <td>NaN</td>\n",
              "      <td>NaN</td>\n",
              "      <td>NaN</td>\n",
              "      <td>NaN</td>\n",
              "      <td>NaN</td>\n",
              "      <td>NaN</td>\n",
              "      <td>NaN</td>\n",
              "      <td>NaN</td>\n",
              "      <td>NaN</td>\n",
              "      <td>NaN</td>\n",
              "      <td>NaN</td>\n",
              "      <td>NaN</td>\n",
              "      <td>NaN</td>\n",
              "      <td>NaN</td>\n",
              "    </tr>\n",
              "    <tr>\n",
              "      <th>min</th>\n",
              "      <td>NaN</td>\n",
              "      <td>NaN</td>\n",
              "      <td>NaN</td>\n",
              "      <td>NaN</td>\n",
              "      <td>NaN</td>\n",
              "      <td>NaN</td>\n",
              "      <td>NaN</td>\n",
              "      <td>1885.000000</td>\n",
              "      <td>NaN</td>\n",
              "      <td>NaN</td>\n",
              "      <td>NaN</td>\n",
              "      <td>NaN</td>\n",
              "      <td>NaN</td>\n",
              "      <td>NaN</td>\n",
              "      <td>1.000000</td>\n",
              "      <td>-1.000000</td>\n",
              "      <td>-23.000000</td>\n",
              "      <td>NaN</td>\n",
              "      <td>1.000000</td>\n",
              "      <td>1.000000</td>\n",
              "      <td>1.000000</td>\n",
              "      <td>NaN</td>\n",
              "      <td>NaN</td>\n",
              "      <td>NaN</td>\n",
              "      <td>NaN</td>\n",
              "      <td>NaN</td>\n",
              "      <td>NaN</td>\n",
              "      <td>NaN</td>\n",
              "      <td>NaN</td>\n",
              "      <td>NaN</td>\n",
              "      <td>NaN</td>\n",
              "      <td>NaN</td>\n",
              "      <td>NaN</td>\n",
              "      <td>NaN</td>\n",
              "      <td>NaN</td>\n",
              "      <td>NaN</td>\n",
              "      <td>NaN</td>\n",
              "      <td>NaN</td>\n",
              "    </tr>\n",
              "    <tr>\n",
              "      <th>25%</th>\n",
              "      <td>NaN</td>\n",
              "      <td>NaN</td>\n",
              "      <td>NaN</td>\n",
              "      <td>NaN</td>\n",
              "      <td>NaN</td>\n",
              "      <td>NaN</td>\n",
              "      <td>NaN</td>\n",
              "      <td>1999.000000</td>\n",
              "      <td>NaN</td>\n",
              "      <td>NaN</td>\n",
              "      <td>NaN</td>\n",
              "      <td>NaN</td>\n",
              "      <td>NaN</td>\n",
              "      <td>NaN</td>\n",
              "      <td>7.000000</td>\n",
              "      <td>1.000000</td>\n",
              "      <td>2.000000</td>\n",
              "      <td>NaN</td>\n",
              "      <td>1.000000</td>\n",
              "      <td>1.000000</td>\n",
              "      <td>1.000000</td>\n",
              "      <td>NaN</td>\n",
              "      <td>NaN</td>\n",
              "      <td>NaN</td>\n",
              "      <td>NaN</td>\n",
              "      <td>NaN</td>\n",
              "      <td>NaN</td>\n",
              "      <td>NaN</td>\n",
              "      <td>NaN</td>\n",
              "      <td>NaN</td>\n",
              "      <td>NaN</td>\n",
              "      <td>NaN</td>\n",
              "      <td>NaN</td>\n",
              "      <td>NaN</td>\n",
              "      <td>NaN</td>\n",
              "      <td>NaN</td>\n",
              "      <td>NaN</td>\n",
              "      <td>NaN</td>\n",
              "    </tr>\n",
              "    <tr>\n",
              "      <th>50%</th>\n",
              "      <td>NaN</td>\n",
              "      <td>NaN</td>\n",
              "      <td>NaN</td>\n",
              "      <td>NaN</td>\n",
              "      <td>NaN</td>\n",
              "      <td>NaN</td>\n",
              "      <td>NaN</td>\n",
              "      <td>2008.000000</td>\n",
              "      <td>NaN</td>\n",
              "      <td>NaN</td>\n",
              "      <td>NaN</td>\n",
              "      <td>NaN</td>\n",
              "      <td>NaN</td>\n",
              "      <td>NaN</td>\n",
              "      <td>8.000000</td>\n",
              "      <td>2.000000</td>\n",
              "      <td>4.000000</td>\n",
              "      <td>NaN</td>\n",
              "      <td>1.000000</td>\n",
              "      <td>1.000000</td>\n",
              "      <td>1.000000</td>\n",
              "      <td>NaN</td>\n",
              "      <td>NaN</td>\n",
              "      <td>NaN</td>\n",
              "      <td>NaN</td>\n",
              "      <td>NaN</td>\n",
              "      <td>NaN</td>\n",
              "      <td>NaN</td>\n",
              "      <td>NaN</td>\n",
              "      <td>NaN</td>\n",
              "      <td>NaN</td>\n",
              "      <td>NaN</td>\n",
              "      <td>NaN</td>\n",
              "      <td>NaN</td>\n",
              "      <td>NaN</td>\n",
              "      <td>NaN</td>\n",
              "      <td>NaN</td>\n",
              "      <td>NaN</td>\n",
              "    </tr>\n",
              "    <tr>\n",
              "      <th>75%</th>\n",
              "      <td>NaN</td>\n",
              "      <td>NaN</td>\n",
              "      <td>NaN</td>\n",
              "      <td>NaN</td>\n",
              "      <td>NaN</td>\n",
              "      <td>NaN</td>\n",
              "      <td>NaN</td>\n",
              "      <td>2017.000000</td>\n",
              "      <td>NaN</td>\n",
              "      <td>NaN</td>\n",
              "      <td>NaN</td>\n",
              "      <td>NaN</td>\n",
              "      <td>NaN</td>\n",
              "      <td>NaN</td>\n",
              "      <td>10.000000</td>\n",
              "      <td>3.000000</td>\n",
              "      <td>6.000000</td>\n",
              "      <td>NaN</td>\n",
              "      <td>2.000000</td>\n",
              "      <td>1.000000</td>\n",
              "      <td>2.000000</td>\n",
              "      <td>NaN</td>\n",
              "      <td>NaN</td>\n",
              "      <td>NaN</td>\n",
              "      <td>NaN</td>\n",
              "      <td>NaN</td>\n",
              "      <td>NaN</td>\n",
              "      <td>NaN</td>\n",
              "      <td>NaN</td>\n",
              "      <td>NaN</td>\n",
              "      <td>NaN</td>\n",
              "      <td>NaN</td>\n",
              "      <td>NaN</td>\n",
              "      <td>NaN</td>\n",
              "      <td>NaN</td>\n",
              "      <td>NaN</td>\n",
              "      <td>NaN</td>\n",
              "      <td>NaN</td>\n",
              "    </tr>\n",
              "    <tr>\n",
              "      <th>max</th>\n",
              "      <td>NaN</td>\n",
              "      <td>NaN</td>\n",
              "      <td>NaN</td>\n",
              "      <td>NaN</td>\n",
              "      <td>NaN</td>\n",
              "      <td>NaN</td>\n",
              "      <td>NaN</td>\n",
              "      <td>2021.000000</td>\n",
              "      <td>NaN</td>\n",
              "      <td>NaN</td>\n",
              "      <td>NaN</td>\n",
              "      <td>NaN</td>\n",
              "      <td>NaN</td>\n",
              "      <td>NaN</td>\n",
              "      <td>1200.000000</td>\n",
              "      <td>96.000000</td>\n",
              "      <td>266.000000</td>\n",
              "      <td>NaN</td>\n",
              "      <td>84.000000</td>\n",
              "      <td>6.000000</td>\n",
              "      <td>10.000000</td>\n",
              "      <td>NaN</td>\n",
              "      <td>NaN</td>\n",
              "      <td>NaN</td>\n",
              "      <td>NaN</td>\n",
              "      <td>NaN</td>\n",
              "      <td>NaN</td>\n",
              "      <td>NaN</td>\n",
              "      <td>NaN</td>\n",
              "      <td>NaN</td>\n",
              "      <td>NaN</td>\n",
              "      <td>NaN</td>\n",
              "      <td>NaN</td>\n",
              "      <td>NaN</td>\n",
              "      <td>NaN</td>\n",
              "      <td>NaN</td>\n",
              "      <td>NaN</td>\n",
              "      <td>NaN</td>\n",
              "    </tr>\n",
              "  </tbody>\n",
              "</table>\n",
              "</div>\n",
              "      <button class=\"colab-df-convert\" onclick=\"convertToInteractive('df-94755bb1-77e3-4aab-99be-8b2201c694e0')\"\n",
              "              title=\"Convert this dataframe to an interactive table.\"\n",
              "              style=\"display:none;\">\n",
              "        \n",
              "  <svg xmlns=\"http://www.w3.org/2000/svg\" height=\"24px\"viewBox=\"0 0 24 24\"\n",
              "       width=\"24px\">\n",
              "    <path d=\"M0 0h24v24H0V0z\" fill=\"none\"/>\n",
              "    <path d=\"M18.56 5.44l.94 2.06.94-2.06 2.06-.94-2.06-.94-.94-2.06-.94 2.06-2.06.94zm-11 1L8.5 8.5l.94-2.06 2.06-.94-2.06-.94L8.5 2.5l-.94 2.06-2.06.94zm10 10l.94 2.06.94-2.06 2.06-.94-2.06-.94-.94-2.06-.94 2.06-2.06.94z\"/><path d=\"M17.41 7.96l-1.37-1.37c-.4-.4-.92-.59-1.43-.59-.52 0-1.04.2-1.43.59L10.3 9.45l-7.72 7.72c-.78.78-.78 2.05 0 2.83L4 21.41c.39.39.9.59 1.41.59.51 0 1.02-.2 1.41-.59l7.78-7.78 2.81-2.81c.8-.78.8-2.07 0-2.86zM5.41 20L4 18.59l7.72-7.72 1.47 1.35L5.41 20z\"/>\n",
              "  </svg>\n",
              "      </button>\n",
              "      \n",
              "  <style>\n",
              "    .colab-df-container {\n",
              "      display:flex;\n",
              "      flex-wrap:wrap;\n",
              "      gap: 12px;\n",
              "    }\n",
              "\n",
              "    .colab-df-convert {\n",
              "      background-color: #E8F0FE;\n",
              "      border: none;\n",
              "      border-radius: 50%;\n",
              "      cursor: pointer;\n",
              "      display: none;\n",
              "      fill: #1967D2;\n",
              "      height: 32px;\n",
              "      padding: 0 0 0 0;\n",
              "      width: 32px;\n",
              "    }\n",
              "\n",
              "    .colab-df-convert:hover {\n",
              "      background-color: #E2EBFA;\n",
              "      box-shadow: 0px 1px 2px rgba(60, 64, 67, 0.3), 0px 1px 3px 1px rgba(60, 64, 67, 0.15);\n",
              "      fill: #174EA6;\n",
              "    }\n",
              "\n",
              "    [theme=dark] .colab-df-convert {\n",
              "      background-color: #3B4455;\n",
              "      fill: #D2E3FC;\n",
              "    }\n",
              "\n",
              "    [theme=dark] .colab-df-convert:hover {\n",
              "      background-color: #434B5C;\n",
              "      box-shadow: 0px 1px 3px 1px rgba(0, 0, 0, 0.15);\n",
              "      filter: drop-shadow(0px 1px 2px rgba(0, 0, 0, 0.3));\n",
              "      fill: #FFFFFF;\n",
              "    }\n",
              "  </style>\n",
              "\n",
              "      <script>\n",
              "        const buttonEl =\n",
              "          document.querySelector('#df-94755bb1-77e3-4aab-99be-8b2201c694e0 button.colab-df-convert');\n",
              "        buttonEl.style.display =\n",
              "          google.colab.kernel.accessAllowed ? 'block' : 'none';\n",
              "\n",
              "        async function convertToInteractive(key) {\n",
              "          const element = document.querySelector('#df-94755bb1-77e3-4aab-99be-8b2201c694e0');\n",
              "          const dataTable =\n",
              "            await google.colab.kernel.invokeFunction('convertToInteractive',\n",
              "                                                     [key], {});\n",
              "          if (!dataTable) return;\n",
              "\n",
              "          const docLinkHtml = 'Like what you see? Visit the ' +\n",
              "            '<a target=\"_blank\" href=https://colab.research.google.com/notebooks/data_table.ipynb>data table notebook</a>'\n",
              "            + ' to learn more about interactive tables.';\n",
              "          element.innerHTML = '';\n",
              "          dataTable['output_type'] = 'display_data';\n",
              "          await google.colab.output.renderOutput(dataTable, element);\n",
              "          const docLink = document.createElement('div');\n",
              "          docLink.innerHTML = docLinkHtml;\n",
              "          element.appendChild(docLink);\n",
              "        }\n",
              "      </script>\n",
              "    </div>\n",
              "  </div>\n",
              "  "
            ]
          },
          "metadata": {},
          "execution_count": 18
        }
      ]
    },
    {
      "cell_type": "code",
      "source": [
        "df.info()"
      ],
      "metadata": {
        "colab": {
          "base_uri": "https://localhost:8080/"
        },
        "id": "MPyzUdtsSPVY",
        "outputId": "f566d797-357a-4080-819c-e4104109ff30"
      },
      "execution_count": 21,
      "outputs": [
        {
          "output_type": "stream",
          "name": "stdout",
          "text": [
            "<class 'pandas.core.frame.DataFrame'>\n",
            "RangeIndex: 10344 entries, 0 to 10343\n",
            "Data columns (total 38 columns):\n",
            " #   Column                       Non-Null Count  Dtype  \n",
            "---  ------                       --------------  -----  \n",
            " 0   Price                        10344 non-null  object \n",
            " 1   Category                     10344 non-null  object \n",
            " 2   Boat Type                    10344 non-null  object \n",
            " 3   Manufacturer                 8954 non-null   object \n",
            " 4   Model                        10341 non-null  object \n",
            " 5   Boat name                    1313 non-null   object \n",
            " 6   Type                         10339 non-null  object \n",
            " 7   Year Built                   9777 non-null   float64\n",
            " 8   Condition                    3375 non-null   object \n",
            " 9   Length                       10334 non-null  object \n",
            " 10  Width                        10281 non-null  object \n",
            " 11  Depth                        7234 non-null   object \n",
            " 12  Displacement                 5051 non-null   object \n",
            " 13  CE Design Category           782 non-null    object \n",
            " 14  Cert Number of People        3597 non-null   float64\n",
            " 15  Number of Cabins             6475 non-null   float64\n",
            " 16  Number of beds               6407 non-null   float64\n",
            " 17  Hull Color                   3311 non-null   object \n",
            " 18  Number of Toilets            2156 non-null   float64\n",
            " 19  Number of Bathrooms          463 non-null    float64\n",
            " 20  Number of Showers            1941 non-null   float64\n",
            " 21  Material                     8512 non-null   object \n",
            " 22  Fresh Water Cap              2118 non-null   object \n",
            " 23  Holding Tank                 819 non-null    object \n",
            " 24  Propulsion                   3291 non-null   object \n",
            " 25  Engine                       9535 non-null   object \n",
            " 26  Engine Performance           8063 non-null   object \n",
            " 27  Fuel Capacity                6814 non-null   object \n",
            " 28  Fuel Type                    8022 non-null   object \n",
            " 29  Engine Hours                 5133 non-null   object \n",
            " 30  Max Speed                    892 non-null    object \n",
            " 31  Cruising Speed               547 non-null    object \n",
            " 32  Location                     10301 non-null  object \n",
            " 33  Advertisement Date           870 non-null    object \n",
            " 34  Number of views last 7 days  9981 non-null   object \n",
            " 35  Comments                     7078 non-null   object \n",
            " 36  Additional Comments          2454 non-null   object \n",
            " 37  Equipment                    6174 non-null   object \n",
            "dtypes: float64(7), object(31)\n",
            "memory usage: 3.0+ MB\n"
          ]
        }
      ]
    },
    {
      "cell_type": "code",
      "source": [
        "len(df) - len(df[df[\"Max Speed\"].isna()])"
      ],
      "metadata": {
        "colab": {
          "base_uri": "https://localhost:8080/"
        },
        "id": "qg7Sr3yaSPYI",
        "outputId": "ec7f165a-24cc-45ed-9ef2-a7dc0ca621ee"
      },
      "execution_count": 28,
      "outputs": [
        {
          "output_type": "execute_result",
          "data": {
            "text/plain": [
              "892"
            ]
          },
          "metadata": {},
          "execution_count": 28
        }
      ]
    },
    {
      "cell_type": "code",
      "source": [
        "type(df.Price)"
      ],
      "metadata": {
        "colab": {
          "base_uri": "https://localhost:8080/"
        },
        "id": "33tTJmmwSPaj",
        "outputId": "4bad188b-6680-4266-d482-f9ae50b94926"
      },
      "execution_count": 42,
      "outputs": [
        {
          "output_type": "execute_result",
          "data": {
            "text/plain": [
              "pandas.core.series.Series"
            ]
          },
          "metadata": {},
          "execution_count": 42
        }
      ]
    },
    {
      "cell_type": "code",
      "source": [
        "mask1 = df['Year Built']> 2000\n",
        "\n",
        "mask2 = df['Year Built'].between(2000,2002)"
      ],
      "metadata": {
        "id": "imIbRjQESPdD"
      },
      "execution_count": 68,
      "outputs": []
    },
    {
      "cell_type": "code",
      "source": [
        "list_cat_to_keep = ['Electric']\n",
        "mask3 = ((df['Year Built']>=2001)  | (df['Year Built']<=2011)) & (df['Number of Cabins']<2) & (~df['Fuel Type'].isin(list_cat_to_keep))"
      ],
      "metadata": {
        "id": "5RH7-DTXYMcS"
      },
      "execution_count": 111,
      "outputs": []
    },
    {
      "cell_type": "code",
      "source": [
        "df[mask3]['Fuel Type'].unique()"
      ],
      "metadata": {
        "colab": {
          "base_uri": "https://localhost:8080/"
        },
        "id": "N6RmfQaGZB3v",
        "outputId": "dd66a4f8-4b64-4166-8529-65292fb4e364"
      },
      "execution_count": 112,
      "outputs": [
        {
          "output_type": "execute_result",
          "data": {
            "text/plain": [
              "array(['Electric'], dtype=object)"
            ]
          },
          "metadata": {},
          "execution_count": 112
        }
      ]
    },
    {
      "cell_type": "code",
      "source": [
        "np.round(df['Fuel Type'].value_counts(normalize = True, dropna = False)*100,decimals = 2)"
      ],
      "metadata": {
        "colab": {
          "base_uri": "https://localhost:8080/"
        },
        "id": "Rav-I9QSZB6M",
        "outputId": "21a5e1d2-02ff-402d-b869-fefc220b9d58"
      },
      "execution_count": 120,
      "outputs": [
        {
          "output_type": "execute_result",
          "data": {
            "text/plain": [
              "Diesel      45.90\n",
              "Unleaded    30.93\n",
              "NaN         22.45\n",
              "Electric     0.54\n",
              "Gas          0.15\n",
              "Hybrid       0.02\n",
              "Propane      0.01\n",
              "Name: Fuel Type, dtype: float64"
            ]
          },
          "metadata": {},
          "execution_count": 120
        }
      ]
    },
    {
      "cell_type": "code",
      "source": [
        ""
      ],
      "metadata": {
        "colab": {
          "base_uri": "https://localhost:8080/"
        },
        "id": "3WjlBeuNet5w",
        "outputId": "30ceb79f-13fe-4cb9-a99e-9418f1bb61cb"
      },
      "execution_count": 93,
      "outputs": [
        {
          "output_type": "execute_result",
          "data": {
            "text/plain": [
              "0        False\n",
              "1        False\n",
              "2        False\n",
              "3        False\n",
              "4        False\n",
              "         ...  \n",
              "10339    False\n",
              "10340    False\n",
              "10341    False\n",
              "10342    False\n",
              "10343    False\n",
              "Name: Fuel Type, Length: 10344, dtype: bool"
            ]
          },
          "metadata": {},
          "execution_count": 93
        }
      ]
    },
    {
      "cell_type": "code",
      "source": [
        "df['Fuel Type'].unique()"
      ],
      "metadata": {
        "colab": {
          "base_uri": "https://localhost:8080/"
        },
        "id": "QgFHBWodet8q",
        "outputId": "905d96c0-04f0-48a6-c1cf-8a0a5ba426ee"
      },
      "execution_count": 139,
      "outputs": [
        {
          "output_type": "execute_result",
          "data": {
            "text/plain": [
              "array([nan, 'Unleaded', 'Electric', 'Diesel', 'Gas', 'Hybrid', 'Propane'],\n",
              "      dtype=object)"
            ]
          },
          "metadata": {},
          "execution_count": 139
        }
      ]
    },
    {
      "cell_type": "code",
      "source": [
        "df['Advertisement Date'] = pd.to_datetime(df['Advertisement Date'], format='%d.%m.%Y')"
      ],
      "metadata": {
        "id": "FLCKkwFtet_t"
      },
      "execution_count": 141,
      "outputs": []
    },
    {
      "cell_type": "code",
      "source": [
        "df['Advertisement Date'].tail()"
      ],
      "metadata": {
        "colab": {
          "base_uri": "https://localhost:8080/"
        },
        "id": "7r6x4SZjiHUt",
        "outputId": "29f3493a-74a9-45ac-f4ab-9d5432b0a117"
      },
      "execution_count": 142,
      "outputs": [
        {
          "output_type": "execute_result",
          "data": {
            "text/plain": [
              "10339          NaT\n",
              "10340          NaT\n",
              "10341          NaT\n",
              "10342   2020-07-23\n",
              "10343          NaT\n",
              "Name: Advertisement Date, dtype: datetime64[ns]"
            ]
          },
          "metadata": {},
          "execution_count": 142
        }
      ]
    },
    {
      "cell_type": "code",
      "source": [
        "df['Length'] = df['Length'].str.rstrip(' m')\n",
        "\n",
        "df['Length'] = pd.to_numeric(df['Length'])"
      ],
      "metadata": {
        "id": "yg3uwjXKjqZR"
      },
      "execution_count": 147,
      "outputs": []
    },
    {
      "cell_type": "code",
      "source": [
        "\n",
        "df['Length'].astype(float)"
      ],
      "metadata": {
        "colab": {
          "base_uri": "https://localhost:8080/"
        },
        "id": "4aRPlauNjqch",
        "outputId": "d5ffba14-ea94-4827-84f9-9d9d068f5515"
      },
      "execution_count": 154,
      "outputs": [
        {
          "output_type": "execute_result",
          "data": {
            "text/plain": [
              "0        4.00\n",
              "1        4.00\n",
              "2        3.69\n",
              "3        3.00\n",
              "4        6.30\n",
              "         ... \n",
              "10339    4.17\n",
              "10340    4.40\n",
              "10341    4.37\n",
              "10342    4.27\n",
              "10343    3.60\n",
              "Name: Length, Length: 10344, dtype: float64"
            ]
          },
          "metadata": {},
          "execution_count": 154
        }
      ]
    },
    {
      "cell_type": "code",
      "source": [
        "def format_series(series, char):\n",
        "\n",
        "  new_series = series.str.rstrip(char)\n",
        "  new_series = pd.to_numeric(new_series)\n",
        "\n",
        "  return new_series"
      ],
      "metadata": {
        "id": "d6Qgu6axjqfY"
      },
      "execution_count": 156,
      "outputs": []
    },
    {
      "cell_type": "code",
      "source": [
        "for col in ['Width', 'Depth']:\n",
        "\n",
        "  df[col] = format_series(df[col], ' m')"
      ],
      "metadata": {
        "id": "ytoigmzwjqiV"
      },
      "execution_count": 165,
      "outputs": []
    },
    {
      "cell_type": "code",
      "source": [
        "df['Engine Hours'] = format_series(df['Engine Hours'], ' h')"
      ],
      "metadata": {
        "id": "tUdJtDGijqoQ"
      },
      "execution_count": 167,
      "outputs": []
    },
    {
      "cell_type": "code",
      "source": [
        "for col in ['Fresh Water Cap', 'Holding Tank', 'Fuel Capacity']:\n",
        "  df[col] = format_series(df[col], ' l')"
      ],
      "metadata": {
        "id": "gf5GXlpJn2O2"
      },
      "execution_count": 173,
      "outputs": []
    },
    {
      "cell_type": "code",
      "source": [
        "col_objects_1 = df.select_dtypes(include = 'object').columns\n",
        "\n",
        "for col in col_objects_1:\n",
        "  print(f\"Column {col} has {len(df[col].unique())} categories\\n\" )"
      ],
      "metadata": {
        "colab": {
          "base_uri": "https://localhost:8080/"
        },
        "id": "3DkKNjS5ou1R",
        "outputId": "8ae4a329-d17c-42bb-e795-dfcd6d4b714b"
      },
      "execution_count": 182,
      "outputs": [
        {
          "output_type": "stream",
          "name": "stdout",
          "text": [
            "Column Price has 3283 categories\n",
            "\n",
            "Column Category has 1 categories\n",
            "\n",
            "Column Boat Type has 135 categories\n",
            "\n",
            "Column Manufacturer has 933 categories\n",
            "\n",
            "Column Model has 7459 categories\n",
            "\n",
            "Column Boat name has 1259 categories\n",
            "\n",
            "Column Type has 37 categories\n",
            "\n",
            "Column Condition has 11 categories\n",
            "\n",
            "Column Displacement has 1381 categories\n",
            "\n",
            "Column CE Design Category has 5 categories\n",
            "\n",
            "Column Hull Color has 378 categories\n",
            "\n",
            "Column Material has 12 categories\n",
            "\n",
            "Column Propulsion has 9 categories\n",
            "\n",
            "Column Engine has 4753 categories\n",
            "\n",
            "Column Engine Performance has 844 categories\n",
            "\n",
            "Column Fuel Type has 7 categories\n",
            "\n",
            "Column Max Speed has 100 categories\n",
            "\n",
            "Column Cruising Speed has 58 categories\n",
            "\n",
            "Column Location has 3178 categories\n",
            "\n",
            "Column Number of views last 7 days has 681 categories\n",
            "\n",
            "Column Comments has 6632 categories\n",
            "\n",
            "Column Additional Comments has 2411 categories\n",
            "\n",
            "Column Equipment has 5302 categories\n",
            "\n"
          ]
        }
      ]
    },
    {
      "cell_type": "code",
      "source": [
        "list_col_to_delete_part1 = ['Category']"
      ],
      "metadata": {
        "id": "JbSvVhEiqdVZ"
      },
      "execution_count": null,
      "outputs": []
    }
  ]
}